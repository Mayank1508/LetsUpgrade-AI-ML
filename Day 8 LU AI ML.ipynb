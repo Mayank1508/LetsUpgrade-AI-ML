{
 "cells": [
  {
   "cell_type": "markdown",
   "metadata": {},
   "source": [
    " ### Python lambda (Anonymous Functions) & filter, map, reduce "
   ]
  },
  {
   "cell_type": "markdown",
   "metadata": {},
   "source": [
    "\n",
    "In Python, anonymous function means that a function is without a name. As we already know that def keyword is used to define the normal functions and the lambda keyword is used to create anonymous functions. :\n"
   ]
  },
  {
   "cell_type": "markdown",
   "metadata": {},
   "source": [
    "Syntax for lambda function\n",
    "\n",
    "\n",
    "    lambda arguments: expression"
   ]
  },
  {
   "cell_type": "markdown",
   "metadata": {},
   "source": [
    "\n",
    "<ol>\n",
    "<li>This function can have any number of arguments but only one expression, which is evaluated and returned.</li>\n",
    "<li>One is free to use lambda functions wherever function objects are required.</li>\n",
    "<li>You need to keep in your knowledge that lambda functions are syntactically restricted to a single expression.</li>\n",
    "<li>It has various uses in particular fields of programming besides other types of expressions in functions.</li>\n",
    "</ol>"
   ]
  },
  {
   "cell_type": "code",
   "execution_count": 1,
   "metadata": {},
   "outputs": [
    {
     "name": "stdout",
     "output_type": "stream",
     "text": [
      "1st O/P:  125\n",
      "\n",
      "2nd O/P:  343\n"
     ]
    }
   ],
   "source": [
    "# Python code to illustrate cube of a number  \n",
    "# Finding cube using def \n",
    "def cube(y): \n",
    "    return y*y*y;\n",
    "\n",
    "# Printing the O/P \n",
    "print('1st O/P: ',cube(5))\n",
    " \n",
    "# Finding cube using lambda\n",
    "cube1 = lambda x: x*x*x\n",
    "\n",
    "# Printing the O/P \n",
    "print('\\n2nd O/P: ',cube1(7))"
   ]
  },
  {
   "cell_type": "markdown",
   "metadata": {},
   "source": [
    "\n",
    "<li><b>Without using Lambda</b> : Here, both of them returns the cube of a given number. But, while using def, we needed to define a function with a name cube and needed to pass a value to it. After execution, we also needed to return the result from where the function was called using the return keyword.</li>\n",
    "<li><b>Using Lambda</b> : Lambda definition does not include a “return” statement, it always contains an expression which is returned. We can also put a lambda definition anywhere a function is expected, and we don’t have to assign it to a variable at all. This is the simplicity of lambda functions.</li>\n",
    "</ul>"
   ]
  },
  {
   "cell_type": "markdown",
   "metadata": {},
   "source": [
    "### Lambda functions can be used along with built-in functions like filter(), map() and reduce()."
   ]
  },
  {
   "cell_type": "markdown",
   "metadata": {},
   "source": [
    "<b>Use of lambda() with filter()</b>"
   ]
  },
  {
   "cell_type": "markdown",
   "metadata": {},
   "source": [
    "The filter() function in Python takes in a function and a iterable as arguments. This offers an elegant way to filter out all the elements of a sequence “sequence”, for which the function returns True. Here is a small program that returns the odd numbers from an input list:"
   ]
  },
  {
   "cell_type": "code",
   "execution_count": 2,
   "metadata": {},
   "outputs": [
    {
     "name": "stdout",
     "output_type": "stream",
     "text": [
      "The O/P is: [5, 7, 97, 77, 23, 73, 61]\n"
     ]
    }
   ],
   "source": [
    "# Python code to illustrate \n",
    "# filter() with lambda() \n",
    "li = [5, 7, 22, 97, 54, 62, 77, 23, 73, 61]\n",
    "\n",
    "# Separating odd numbers\n",
    "final_list = list(filter(lambda x: (x%2 != 0) , li))\n",
    "\n",
    "# Printing the O/P\n",
    "print('The O/P is:',final_list) "
   ]
  },
  {
   "cell_type": "markdown",
   "metadata": {},
   "source": [
    "<b>Use of lambda() with map()</b>"
   ]
  },
  {
   "cell_type": "markdown",
   "metadata": {},
   "source": [
    "The map() function in Python takes in a function and a list as argument. The function is called with a lambda function and a list and a new list is returned which contains all the lambda modified items returned by that function for each item. Example:"
   ]
  },
  {
   "cell_type": "code",
   "execution_count": 3,
   "metadata": {},
   "outputs": [
    {
     "name": "stdout",
     "output_type": "stream",
     "text": [
      "The O/P is: [25, 49, 484, 9409, 2916, 3844, 5929, 529, 5329, 3721]\n"
     ]
    }
   ],
   "source": [
    "# Python code to illustrate  \n",
    "# map() with lambda()  \n",
    "li = [5, 7, 22, 97, 54, 62, 77, 23, 73, 61]\n",
    "\n",
    "# Squaring the elements of the list\n",
    "final_list = list(map(lambda x: x**2 , li))\n",
    "\n",
    "# Printing the O/P\n",
    "print('The O/P is:',final_list)"
   ]
  },
  {
   "cell_type": "markdown",
   "metadata": {},
   "source": [
    "<b>Use of lambda() with reduce()</b>"
   ]
  },
  {
   "cell_type": "markdown",
   "metadata": {},
   "source": [
    "\n",
    "The reduce() function in Python takes in a function and a list as argument. The function is called with a lambda function and a list and a new reduced result is returned. This performs a repetitive operation over the pairs of the list. This is a part of functools module. Example\n"
   ]
  },
  {
   "cell_type": "code",
   "execution_count": 4,
   "metadata": {},
   "outputs": [
    {
     "name": "stdout",
     "output_type": "stream",
     "text": [
      "The O/P is: 193\n"
     ]
    }
   ],
   "source": [
    "# Python code to illustrate  \n",
    "# reduce() with lambda() \n",
    "\n",
    "# importing reduce from functools module\n",
    "from functools import reduce\n",
    "li = [5, 8, 10, 20, 50, 100]\n",
    "\n",
    "# Summing the elements of the list\n",
    "add = reduce((lambda x, y: x + y), li)\n",
    "\n",
    "# Printing the O/P\n",
    "print ('The O/P is:',add) "
   ]
  },
  {
   "cell_type": "markdown",
   "metadata": {},
   "source": [
    "### End!"
   ]
  },
  {
   "cell_type": "markdown",
   "metadata": {},
   "source": [
    "<center><h1>Classes and Objects</h1><center>"
   ]
  },
  {
   "cell_type": "markdown",
   "metadata": {},
   "source": [
    "\n",
    "A class is a user-defined blueprint or prototype from which objects are created. Classes provide a means of bundling data and functionality together. Creating a new class creates a new type of object, allowing new instances of that type to be made. Each class instance can have attributes attached to it for maintaining its state. Class instances can also have methods (defined by its class) for modifying its state.\n",
    "To understand the need for creating a class let’s consider an example, let’s say you wanted to track the number of dogs which may have different attributes like breed, age. If a list is used, the first element could be the dog’s breed while the second element could represent its age. Let’s suppose there are 100 different dogs, then how would you know which element is supposed to be which? What if you wanted to add other properties to these dogs? This lacks organization and it’s the exact need for classes.\n",
    "Class creates a user-defined data structure, which holds its own data members and member functions, which can be accessed and used by creating an instance of that class. A class is like a blueprint for an object."
   ]
  },
  {
   "cell_type": "markdown",
   "metadata": {},
   "source": [
    "\n",
    "<b>Some points on Python class:</b>\n",
    "    <ol>\n",
    "        <li>Classes are created by keyword class</li>\n",
    "        <li>Attributes are the variables that belong to class.</li>\n",
    "        <li>Attributes are always public and can be accessed using dot (.) operator. Eg.: Myclass.Myattribute</li>\n",
    "    </ol>\n"
   ]
  },
  {
   "cell_type": "markdown",
   "metadata": {},
   "source": [
    "#### Class Definition Syntax:\n",
    "\n",
    "\n",
    "class ClassName:\n",
    "    # Statement-1\n",
    "    .\n",
    "    .\n",
    "    .\n",
    "    # Statement-N\n"
   ]
  },
  {
   "cell_type": "code",
   "execution_count": 5,
   "metadata": {},
   "outputs": [],
   "source": [
    "# Python program to  \n",
    "# demonstrate defining  \n",
    "# a class \n",
    "  \n",
    "class Dog: \n",
    "    pass"
   ]
  },
  {
   "cell_type": "markdown",
   "metadata": {},
   "source": [
    "In the above example, class keyword indicates that you are creating a class followed by the name of the class (Dog in this case). "
   ]
  },
  {
   "cell_type": "markdown",
   "metadata": {},
   "source": [
    "<b>Class Objects</b>"
   ]
  },
  {
   "cell_type": "markdown",
   "metadata": {},
   "source": [
    "An Object is an instance of a Class. A class is like a blueprint while an instance is a copy of the class with actual values. It’s not an idea anymore, it’s an actual dog, like a dog of breed pug who’s seven years old. You can have many dogs to create many different instances, but without the class as a guide, you would be lost, not knowing what information is required.<br>\n",
    "An object consists of :\n",
    "    <ul>\n",
    "        <li>State : It is represented by attributes of an object. It also reflects the properties of an object.</li>\n",
    "        <li>Behavior : It is represented by methods of an object. It also reflects the response of an object with other objects.</li>\n",
    "        <li>Identity : It gives a unique name to an object and enables one object to interact with other objects.\n",
    "</li>\n",
    "    </ul>\n"
   ]
  },
  {
   "cell_type": "markdown",
   "metadata": {},
   "source": [
    "\n",
    "When an object of a class is created, the class is said to be instantiated. All the instances share the attributes and the behavior of the class. But the values of those attributes, i.e. the state are unique for each object. A single class may have any number of instances.\n",
    "\n",
    "Example:\n"
   ]
  },
  {
   "cell_type": "code",
   "execution_count": 6,
   "metadata": {},
   "outputs": [
    {
     "name": "stdout",
     "output_type": "stream",
     "text": [
      "mamal\n",
      "I'm a mamal\n",
      "I'm a dog\n"
     ]
    }
   ],
   "source": [
    "# Python program to \n",
    "# demonstrate instantiating \n",
    "# a class \n",
    "  \n",
    "class Dog:  \n",
    "      \n",
    "    # A simple class \n",
    "    # attribute \n",
    "    attr1 = \"mamal\"\n",
    "    attr2 = \"dog\"\n",
    "  \n",
    "    # A sample method   \n",
    "    def fun(self):  \n",
    "        print(\"I'm a\", self.attr1) \n",
    "        print(\"I'm a\", self.attr2) \n",
    "\n",
    "# Driver code \n",
    "# Object instantiation \n",
    "Rodger = Dog() \n",
    "  \n",
    "# Accessing class attributes \n",
    "# and method through objects \n",
    "print(Rodger.attr1) \n",
    "Rodger.fun()"
   ]
  },
  {
   "cell_type": "markdown",
   "metadata": {},
   "source": [
    "In the above example, an object is created which is basically a dog named Rodger. This class only has two class attributes that tell us that Rodger is a dog and a mammal."
   ]
  },
  {
   "cell_type": "markdown",
   "metadata": {},
   "source": [
    "<b>The self</b>"
   ]
  },
  {
   "cell_type": "markdown",
   "metadata": {},
   "source": [
    "\n",
    "    <ol>\n",
    "<li>Class methods must have an extra first parameter in method definition. We do not give a value for this parameter when we call the method, Python provides it.</li>\n",
    "<li>If we have a method which takes no arguments, then we still have to have one argument.</li>\n",
    "<li>This is similar to this pointer in C++ and this reference in Java.</li>\n",
    "        </ol>\n",
    "When we call a method of this object as myobject.method(arg1, arg2), this is automatically converted by Python into MyClass.method(myobject, arg1, arg2) – this is all the special self is about.\n"
   ]
  },
  {
   "cell_type": "markdown",
   "metadata": {},
   "source": [
    "<b>__init__ method\n",
    "</b>"
   ]
  },
  {
   "cell_type": "markdown",
   "metadata": {},
   "source": [
    "\n",
    "The __init__ method is similar to constructors in C++ and Java. Constructors are used to initialize the object’s state. Like methods, a constructor also contains a collection of statements(i.e. instructions) that are executed at the time of Object creation. It is run as soon as an object of a class is instantiated. The method is useful to do any initialization you want to do with your object.\n"
   ]
  },
  {
   "cell_type": "code",
   "execution_count": 7,
   "metadata": {},
   "outputs": [
    {
     "name": "stdout",
     "output_type": "stream",
     "text": [
      "Hello, my name is Mayank\n"
     ]
    }
   ],
   "source": [
    "# A Sample class with init method  \n",
    "class Person:  \n",
    "    \n",
    "    # init method or constructor   \n",
    "    def __init__(self, name):  \n",
    "        self.name = name  \n",
    "    \n",
    "    # Sample Method   \n",
    "    def say_hi(self):  \n",
    "        print('Hello, my name is', self.name)  \n",
    "    \n",
    "p = Person('Mayank')  \n",
    "p.say_hi()  "
   ]
  },
  {
   "cell_type": "markdown",
   "metadata": {},
   "source": [
    "<b>Class and Instance Variables\n",
    "</b>"
   ]
  },
  {
   "cell_type": "markdown",
   "metadata": {},
   "source": [
    "\n",
    "Instance variables are for data unique to each instance and class variables are for attributes and methods shared by all instances of the class. Instance variables are variables whose value is assigned inside a constructor or method with self whereas class variables are variables whose value is assigned in the class.\n",
    "\n",
    "Defining instance varibale using constructor.\n"
   ]
  },
  {
   "cell_type": "code",
   "execution_count": 8,
   "metadata": {},
   "outputs": [
    {
     "name": "stdout",
     "output_type": "stream",
     "text": [
      "Rodger details:\n",
      "Rodger is a dog\n",
      "Breed:  Pug\n",
      "Color:  brown\n",
      "\n",
      "Buzo details:\n",
      "Buzo is a dog\n",
      "Breed:  Bulldog\n",
      "Color:  black\n",
      "\n",
      "Accessing class variable using class name\n",
      "dog\n"
     ]
    }
   ],
   "source": [
    "# Python program to show that the variables with a value \n",
    "# assigned in the class declaration, are class variables and \n",
    "# variables inside methods and constructors are instance \n",
    "# variables. \n",
    "\n",
    "# Class for Dog \n",
    "class Dog: \n",
    "\n",
    "    # Class Variable \n",
    "    animal = 'dog'\n",
    "\n",
    "    # The init method or constructor \n",
    "    def __init__(self, breed, color): \n",
    "\n",
    "        # Instance Variable\t \n",
    "        self.breed = breed \n",
    "        self.color = color \n",
    "\n",
    "# Objects of Dog class \n",
    "Rodger = Dog(\"Pug\", \"brown\") \n",
    "Buzo = Dog(\"Bulldog\", \"black\") \n",
    "\n",
    "print('Rodger details:') \n",
    "print('Rodger is a', Rodger.animal) \n",
    "print('Breed: ', Rodger.breed) \n",
    "print('Color: ', Rodger.color) \n",
    "\n",
    "print('\\nBuzo details:') \n",
    "print('Buzo is a', Buzo.animal) \n",
    "print('Breed: ', Buzo.breed) \n",
    "print('Color: ', Buzo.color) \n",
    "\n",
    "# Class variables can be accessed using class \n",
    "# name also \n",
    "print(\"\\nAccessing class variable using class name\") \n",
    "print(Dog.animal) \n"
   ]
  },
  {
   "cell_type": "code",
   "execution_count": 9,
   "metadata": {},
   "outputs": [
    {
     "name": "stdout",
     "output_type": "stream",
     "text": [
      "brown\n"
     ]
    }
   ],
   "source": [
    "# Python program to show that we can create   \n",
    "# instance variables inside methods  \n",
    "     \n",
    "# Class for Dog  \n",
    "class Dog:  \n",
    "        \n",
    "    # Class Variable  \n",
    "    animal = 'dog'      \n",
    "        \n",
    "    # The init method or constructor  \n",
    "    def __init__(self, breed):  \n",
    "            \n",
    "        # Instance Variable  \n",
    "        self.breed = breed              \n",
    "    \n",
    "    # Adds an instance variable   \n",
    "    def setColor(self, color):  \n",
    "        self.color = color  \n",
    "        \n",
    "    # Retrieves instance variable      \n",
    "    def getColor(self):      \n",
    "        return self.color     \n",
    "    \n",
    "# Driver Code  \n",
    "Rodger = Dog(\"pug\")  \n",
    "Rodger.setColor(\"brown\")  \n",
    "print(Rodger.getColor())   "
   ]
  },
  {
   "cell_type": "markdown",
   "metadata": {},
   "source": [
    "## End!"
   ]
  }
 ],
 "metadata": {
  "kernelspec": {
   "display_name": "Python 3",
   "language": "python",
   "name": "python3"
  },
  "language_info": {
   "codemirror_mode": {
    "name": "ipython",
    "version": 3
   },
   "file_extension": ".py",
   "mimetype": "text/x-python",
   "name": "python",
   "nbconvert_exporter": "python",
   "pygments_lexer": "ipython3",
   "version": "3.8.3"
  }
 },
 "nbformat": 4,
 "nbformat_minor": 4
}
