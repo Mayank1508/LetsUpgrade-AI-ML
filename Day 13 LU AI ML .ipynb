{
 "cells": [
  {
   "cell_type": "markdown",
   "metadata": {
    "papermill": {
     "duration": 0.016317,
     "end_time": "2020-09-19T09:02:33.550331",
     "exception": false,
     "start_time": "2020-09-19T09:02:33.534014",
     "status": "completed"
    },
    "tags": []
   },
   "source": [
    "## Question 1:\n",
    "\n",
    "Prepare a case study for the given Dataset to implement the following steps:\n",
    "Steps:\n",
    "1. Import different required library\n",
    "2. Check the version of the Library\n",
    "3. Go for different observation like Info, description\n",
    "4. Check null Values\n",
    "5. Check duplicate values\n",
    "6. Filter for different condition - come up with insights from the dataset, basic plot, distribution plots\n",
    "7. Use a histogram to plot different columns\n",
    "Dataset Link for the Assignment:\n",
    "https://drive.google.com/file/d/1OHKvfy7Zj_OoNjGMQM_NuzQrxeCQk3fZ/view?usp=sharing"
   ]
  },
  {
   "cell_type": "markdown",
   "metadata": {
    "papermill": {
     "duration": 0.015167,
     "end_time": "2020-09-19T09:02:33.582171",
     "exception": false,
     "start_time": "2020-09-19T09:02:33.567004",
     "status": "completed"
    },
    "tags": []
   },
   "source": [
    "## Libraries"
   ]
  },
  {
   "cell_type": "code",
   "execution_count": 1,
   "metadata": {
    "_cell_guid": "b1076dfc-b9ad-4769-8c92-a6c4dae69d19",
    "_uuid": "8f2839f25d086af736a60e9eeb907d3b93b6e0e5",
    "execution": {
     "iopub.execute_input": "2020-09-19T09:02:33.622098Z",
     "iopub.status.busy": "2020-09-19T09:02:33.621017Z",
     "iopub.status.idle": "2020-09-19T09:02:35.018106Z",
     "shell.execute_reply": "2020-09-19T09:02:35.017113Z"
    },
    "papermill": {
     "duration": 1.420652,
     "end_time": "2020-09-19T09:02:35.018257",
     "exception": false,
     "start_time": "2020-09-19T09:02:33.597605",
     "status": "completed"
    },
    "tags": []
   },
   "outputs": [],
   "source": [
    "# Importing the required module\n",
    "import numpy as np\n",
    "\n",
    "import pandas as pd\n",
    "\n",
    "import matplotlib.pyplot as plt\n",
    "\n",
    "import matplotlib\n",
    "\n",
    "import seaborn"
   ]
  },
  {
   "cell_type": "markdown",
   "metadata": {
    "papermill": {
     "duration": 0.017123,
     "end_time": "2020-09-19T09:02:35.051693",
     "exception": false,
     "start_time": "2020-09-19T09:02:35.034570",
     "status": "completed"
    },
    "tags": []
   },
   "source": [
    "## Version Check"
   ]
  },
  {
   "cell_type": "code",
   "execution_count": 2,
   "metadata": {
    "execution": {
     "iopub.execute_input": "2020-09-19T09:02:35.096671Z",
     "iopub.status.busy": "2020-09-19T09:02:35.095389Z",
     "iopub.status.idle": "2020-09-19T09:02:35.101399Z",
     "shell.execute_reply": "2020-09-19T09:02:35.102594Z"
    },
    "papermill": {
     "duration": 0.033395,
     "end_time": "2020-09-19T09:02:35.102922",
     "exception": false,
     "start_time": "2020-09-19T09:02:35.069527",
     "status": "completed"
    },
    "tags": []
   },
   "outputs": [
    {
     "name": "stdout",
     "output_type": "stream",
     "text": [
      "Version of Numpy: 1.18.5\n",
      "\n",
      "Version of Pandas: 1.1.1\n",
      "\n",
      "Version of Matplotlib: 3.2.1\n",
      "\n",
      "Version of Seaborn: 0.10.0\n"
     ]
    }
   ],
   "source": [
    "# Checking the version for imported modules\n",
    "\n",
    "# Numpy Version\n",
    "print('Version of Numpy:',np.__version__)\n",
    "\n",
    "# Pandas Version\n",
    "print('\\nVersion of Pandas:',pd.__version__)\n",
    "\n",
    "# Matplotlib Version\n",
    "print('\\nVersion of Matplotlib:',matplotlib.__version__)\n",
    "\n",
    "# Seaborn Version\n",
    "print('\\nVersion of Seaborn:',seaborn.__version__)"
   ]
  },
  {
   "cell_type": "code",
   "execution_count": 3,
   "metadata": {
    "execution": {
     "iopub.execute_input": "2020-09-19T09:02:35.155510Z",
     "iopub.status.busy": "2020-09-19T09:02:35.154212Z",
     "iopub.status.idle": "2020-09-19T09:02:38.210021Z",
     "shell.execute_reply": "2020-09-19T09:02:38.209158Z"
    },
    "papermill": {
     "duration": 3.086589,
     "end_time": "2020-09-19T09:02:38.210161",
     "exception": false,
     "start_time": "2020-09-19T09:02:35.123572",
     "status": "completed"
    },
    "tags": []
   },
   "outputs": [
    {
     "name": "stdout",
     "output_type": "stream",
     "text": [
      "   Time        V1        V2        V3        V4        V5        V6        V7  \\\n",
      "0   0.0 -1.359807 -0.072781  2.536347  1.378155 -0.338321  0.462388  0.239599   \n",
      "1   0.0  1.191857  0.266151  0.166480  0.448154  0.060018 -0.082361 -0.078803   \n",
      "2   1.0 -1.358354 -1.340163  1.773209  0.379780 -0.503198  1.800499  0.791461   \n",
      "3   1.0 -0.966272 -0.185226  1.792993 -0.863291 -0.010309  1.247203  0.237609   \n",
      "4   2.0 -1.158233  0.877737  1.548718  0.403034 -0.407193  0.095921  0.592941   \n",
      "\n",
      "         V8        V9  ...       V21       V22       V23       V24       V25  \\\n",
      "0  0.098698  0.363787  ... -0.018307  0.277838 -0.110474  0.066928  0.128539   \n",
      "1  0.085102 -0.255425  ... -0.225775 -0.638672  0.101288 -0.339846  0.167170   \n",
      "2  0.247676 -1.514654  ...  0.247998  0.771679  0.909412 -0.689281 -0.327642   \n",
      "3  0.377436 -1.387024  ... -0.108300  0.005274 -0.190321 -1.175575  0.647376   \n",
      "4 -0.270533  0.817739  ... -0.009431  0.798278 -0.137458  0.141267 -0.206010   \n",
      "\n",
      "        V26       V27       V28  Amount  Class  \n",
      "0 -0.189115  0.133558 -0.021053  149.62    '0'  \n",
      "1  0.125895 -0.008983  0.014724    2.69    '0'  \n",
      "2 -0.139097 -0.055353 -0.059752  378.66    '0'  \n",
      "3 -0.221929  0.062723  0.061458  123.50    '0'  \n",
      "4  0.502292  0.219422  0.215153   69.99    '0'  \n",
      "\n",
      "[5 rows x 31 columns]\n"
     ]
    }
   ],
   "source": [
    "# Reading the creditcard.csv file\n",
    "my_data = pd.read_csv('../input/credit-card/creditcard.csv')\n",
    "\n",
    "# Checking the file data \n",
    "print(my_data.head())"
   ]
  },
  {
   "cell_type": "code",
   "execution_count": 4,
   "metadata": {
    "execution": {
     "iopub.execute_input": "2020-09-19T09:02:38.251810Z",
     "iopub.status.busy": "2020-09-19T09:02:38.250498Z",
     "iopub.status.idle": "2020-09-19T09:02:38.331869Z",
     "shell.execute_reply": "2020-09-19T09:02:38.331011Z"
    },
    "papermill": {
     "duration": 0.104443,
     "end_time": "2020-09-19T09:02:38.332005",
     "exception": false,
     "start_time": "2020-09-19T09:02:38.227562",
     "status": "completed"
    },
    "tags": []
   },
   "outputs": [
    {
     "name": "stdout",
     "output_type": "stream",
     "text": [
      "<class 'pandas.core.frame.DataFrame'>\n",
      "RangeIndex: 284807 entries, 0 to 284806\n",
      "Data columns (total 31 columns):\n",
      " #   Column  Non-Null Count   Dtype  \n",
      "---  ------  --------------   -----  \n",
      " 0   Time    284807 non-null  float64\n",
      " 1   V1      284807 non-null  float64\n",
      " 2   V2      284807 non-null  float64\n",
      " 3   V3      284807 non-null  float64\n",
      " 4   V4      284807 non-null  float64\n",
      " 5   V5      284807 non-null  float64\n",
      " 6   V6      284807 non-null  float64\n",
      " 7   V7      284807 non-null  float64\n",
      " 8   V8      284807 non-null  float64\n",
      " 9   V9      284807 non-null  float64\n",
      " 10  V10     284807 non-null  float64\n",
      " 11  V11     284807 non-null  float64\n",
      " 12  V12     284807 non-null  float64\n",
      " 13  V13     284807 non-null  float64\n",
      " 14  V14     284807 non-null  float64\n",
      " 15  V15     284807 non-null  float64\n",
      " 16  V16     284807 non-null  float64\n",
      " 17  V17     284807 non-null  float64\n",
      " 18  V18     284807 non-null  float64\n",
      " 19  V19     284807 non-null  float64\n",
      " 20  V20     284807 non-null  float64\n",
      " 21  V21     284807 non-null  float64\n",
      " 22  V22     284807 non-null  float64\n",
      " 23  V23     284807 non-null  float64\n",
      " 24  V24     284807 non-null  float64\n",
      " 25  V25     284807 non-null  float64\n",
      " 26  V26     284807 non-null  float64\n",
      " 27  V27     284807 non-null  float64\n",
      " 28  V28     284807 non-null  float64\n",
      " 29  Amount  284807 non-null  float64\n",
      " 30  Class   284807 non-null  object \n",
      "dtypes: float64(30), object(1)\n",
      "memory usage: 67.4+ MB\n",
      "None\n"
     ]
    }
   ],
   "source": [
    "# Information provided for the file by pandas\n",
    "print(my_data.info())"
   ]
  },
  {
   "cell_type": "code",
   "execution_count": 5,
   "metadata": {
    "execution": {
     "iopub.execute_input": "2020-09-19T09:02:38.410074Z",
     "iopub.status.busy": "2020-09-19T09:02:38.409224Z",
     "iopub.status.idle": "2020-09-19T09:02:38.830551Z",
     "shell.execute_reply": "2020-09-19T09:02:38.829128Z"
    },
    "papermill": {
     "duration": 0.479349,
     "end_time": "2020-09-19T09:02:38.830729",
     "exception": false,
     "start_time": "2020-09-19T09:02:38.351380",
     "status": "completed"
    },
    "tags": []
   },
   "outputs": [
    {
     "name": "stdout",
     "output_type": "stream",
     "text": [
      "                Time            V1            V2            V3            V4  \\\n",
      "count  284807.000000  2.848070e+05  2.848070e+05  2.848070e+05  2.848070e+05   \n",
      "mean    94813.859575  3.919560e-15  5.688174e-16 -8.769071e-15  2.782312e-15   \n",
      "std     47488.145955  1.958696e+00  1.651309e+00  1.516255e+00  1.415869e+00   \n",
      "min         0.000000 -5.640751e+01 -7.271573e+01 -4.832559e+01 -5.683171e+00   \n",
      "25%     54201.500000 -9.203734e-01 -5.985499e-01 -8.903648e-01 -8.486401e-01   \n",
      "50%     84692.000000  1.810880e-02  6.548556e-02  1.798463e-01 -1.984653e-02   \n",
      "75%    139320.500000  1.315642e+00  8.037239e-01  1.027196e+00  7.433413e-01   \n",
      "max    172792.000000  2.454930e+00  2.205773e+01  9.382558e+00  1.687534e+01   \n",
      "\n",
      "                 V5            V6            V7            V8            V9  \\\n",
      "count  2.848070e+05  2.848070e+05  2.848070e+05  2.848070e+05  2.848070e+05   \n",
      "mean  -1.552563e-15  2.010663e-15 -1.694249e-15 -1.927028e-16 -3.137024e-15   \n",
      "std    1.380247e+00  1.332271e+00  1.237094e+00  1.194353e+00  1.098632e+00   \n",
      "min   -1.137433e+02 -2.616051e+01 -4.355724e+01 -7.321672e+01 -1.343407e+01   \n",
      "25%   -6.915971e-01 -7.682956e-01 -5.540759e-01 -2.086297e-01 -6.430976e-01   \n",
      "50%   -5.433583e-02 -2.741871e-01  4.010308e-02  2.235804e-02 -5.142873e-02   \n",
      "75%    6.119264e-01  3.985649e-01  5.704361e-01  3.273459e-01  5.971390e-01   \n",
      "max    3.480167e+01  7.330163e+01  1.205895e+02  2.000721e+01  1.559499e+01   \n",
      "\n",
      "       ...           V20           V21           V22           V23  \\\n",
      "count  ...  2.848070e+05  2.848070e+05  2.848070e+05  2.848070e+05   \n",
      "mean   ...  5.085503e-16  1.537294e-16  7.959909e-16  5.367590e-16   \n",
      "std    ...  7.709250e-01  7.345240e-01  7.257016e-01  6.244603e-01   \n",
      "min    ... -5.449772e+01 -3.483038e+01 -1.093314e+01 -4.480774e+01   \n",
      "25%    ... -2.117214e-01 -2.283949e-01 -5.423504e-01 -1.618463e-01   \n",
      "50%    ... -6.248109e-02 -2.945017e-02  6.781943e-03 -1.119293e-02   \n",
      "75%    ...  1.330408e-01  1.863772e-01  5.285536e-01  1.476421e-01   \n",
      "max    ...  3.942090e+01  2.720284e+01  1.050309e+01  2.252841e+01   \n",
      "\n",
      "                V24           V25           V26           V27           V28  \\\n",
      "count  2.848070e+05  2.848070e+05  2.848070e+05  2.848070e+05  2.848070e+05   \n",
      "mean   4.458112e-15  1.453003e-15  1.699104e-15 -3.660161e-16 -1.206049e-16   \n",
      "std    6.056471e-01  5.212781e-01  4.822270e-01  4.036325e-01  3.300833e-01   \n",
      "min   -2.836627e+00 -1.029540e+01 -2.604551e+00 -2.256568e+01 -1.543008e+01   \n",
      "25%   -3.545861e-01 -3.171451e-01 -3.269839e-01 -7.083953e-02 -5.295979e-02   \n",
      "50%    4.097606e-02  1.659350e-02 -5.213911e-02  1.342146e-03  1.124383e-02   \n",
      "75%    4.395266e-01  3.507156e-01  2.409522e-01  9.104512e-02  7.827995e-02   \n",
      "max    4.584549e+00  7.519589e+00  3.517346e+00  3.161220e+01  3.384781e+01   \n",
      "\n",
      "              Amount  \n",
      "count  284807.000000  \n",
      "mean       88.349619  \n",
      "std       250.120109  \n",
      "min         0.000000  \n",
      "25%         5.600000  \n",
      "50%        22.000000  \n",
      "75%        77.165000  \n",
      "max     25691.160000  \n",
      "\n",
      "[8 rows x 30 columns]\n"
     ]
    }
   ],
   "source": [
    "# Printing statistical data using pandas\n",
    "print(my_data.describe())"
   ]
  },
  {
   "cell_type": "code",
   "execution_count": 6,
   "metadata": {
    "execution": {
     "iopub.execute_input": "2020-09-19T09:02:38.877105Z",
     "iopub.status.busy": "2020-09-19T09:02:38.876201Z",
     "iopub.status.idle": "2020-09-19T09:02:38.880260Z",
     "shell.execute_reply": "2020-09-19T09:02:38.879577Z"
    },
    "papermill": {
     "duration": 0.030781,
     "end_time": "2020-09-19T09:02:38.880582",
     "exception": false,
     "start_time": "2020-09-19T09:02:38.849801",
     "status": "completed"
    },
    "tags": []
   },
   "outputs": [
    {
     "name": "stdout",
     "output_type": "stream",
     "text": [
      "float64    30\n",
      "object      1\n",
      "dtype: int64\n"
     ]
    }
   ],
   "source": [
    "print(my_data.dtypes.value_counts())"
   ]
  },
  {
   "cell_type": "code",
   "execution_count": 7,
   "metadata": {
    "execution": {
     "iopub.execute_input": "2020-09-19T09:02:38.924775Z",
     "iopub.status.busy": "2020-09-19T09:02:38.923953Z",
     "iopub.status.idle": "2020-09-19T09:02:38.991079Z",
     "shell.execute_reply": "2020-09-19T09:02:38.990248Z"
    },
    "papermill": {
     "duration": 0.091344,
     "end_time": "2020-09-19T09:02:38.991214",
     "exception": false,
     "start_time": "2020-09-19T09:02:38.899870",
     "status": "completed"
    },
    "tags": []
   },
   "outputs": [
    {
     "name": "stdout",
     "output_type": "stream",
     "text": [
      "         Time     V1     V2     V3     V4     V5     V6     V7     V8     V9  \\\n",
      "0       False  False  False  False  False  False  False  False  False  False   \n",
      "1       False  False  False  False  False  False  False  False  False  False   \n",
      "2       False  False  False  False  False  False  False  False  False  False   \n",
      "3       False  False  False  False  False  False  False  False  False  False   \n",
      "4       False  False  False  False  False  False  False  False  False  False   \n",
      "...       ...    ...    ...    ...    ...    ...    ...    ...    ...    ...   \n",
      "284802  False  False  False  False  False  False  False  False  False  False   \n",
      "284803  False  False  False  False  False  False  False  False  False  False   \n",
      "284804  False  False  False  False  False  False  False  False  False  False   \n",
      "284805  False  False  False  False  False  False  False  False  False  False   \n",
      "284806  False  False  False  False  False  False  False  False  False  False   \n",
      "\n",
      "        ...    V21    V22    V23    V24    V25    V26    V27    V28  Amount  \\\n",
      "0       ...  False  False  False  False  False  False  False  False   False   \n",
      "1       ...  False  False  False  False  False  False  False  False   False   \n",
      "2       ...  False  False  False  False  False  False  False  False   False   \n",
      "3       ...  False  False  False  False  False  False  False  False   False   \n",
      "4       ...  False  False  False  False  False  False  False  False   False   \n",
      "...     ...    ...    ...    ...    ...    ...    ...    ...    ...     ...   \n",
      "284802  ...  False  False  False  False  False  False  False  False   False   \n",
      "284803  ...  False  False  False  False  False  False  False  False   False   \n",
      "284804  ...  False  False  False  False  False  False  False  False   False   \n",
      "284805  ...  False  False  False  False  False  False  False  False   False   \n",
      "284806  ...  False  False  False  False  False  False  False  False   False   \n",
      "\n",
      "        Class  \n",
      "0       False  \n",
      "1       False  \n",
      "2       False  \n",
      "3       False  \n",
      "4       False  \n",
      "...       ...  \n",
      "284802  False  \n",
      "284803  False  \n",
      "284804  False  \n",
      "284805  False  \n",
      "284806  False  \n",
      "\n",
      "[284807 rows x 31 columns]\n"
     ]
    }
   ],
   "source": [
    "# Checking for null values for the file\n",
    "print(my_data.isnull())"
   ]
  },
  {
   "cell_type": "code",
   "execution_count": 8,
   "metadata": {
    "execution": {
     "iopub.execute_input": "2020-09-19T09:02:39.041143Z",
     "iopub.status.busy": "2020-09-19T09:02:39.039558Z",
     "iopub.status.idle": "2020-09-19T09:02:39.953596Z",
     "shell.execute_reply": "2020-09-19T09:02:39.954336Z"
    },
    "papermill": {
     "duration": 0.942921,
     "end_time": "2020-09-19T09:02:39.954510",
     "exception": false,
     "start_time": "2020-09-19T09:02:39.011589",
     "status": "completed"
    },
    "tags": []
   },
   "outputs": [
    {
     "name": "stdout",
     "output_type": "stream",
     "text": [
      "0         False\n",
      "1         False\n",
      "2         False\n",
      "3         False\n",
      "4         False\n",
      "          ...  \n",
      "284802    False\n",
      "284803    False\n",
      "284804    False\n",
      "284805    False\n",
      "284806    False\n",
      "Length: 284807, dtype: bool\n"
     ]
    }
   ],
   "source": [
    "# Checking the duplicate values \n",
    "print(my_data.duplicated())"
   ]
  },
  {
   "cell_type": "markdown",
   "metadata": {
    "papermill": {
     "duration": 0.020052,
     "end_time": "2020-09-19T09:02:39.995758",
     "exception": false,
     "start_time": "2020-09-19T09:02:39.975706",
     "status": "completed"
    },
    "tags": []
   },
   "source": [
    "## Basic Plot\n"
   ]
  },
  {
   "cell_type": "code",
   "execution_count": 9,
   "metadata": {
    "execution": {
     "iopub.execute_input": "2020-09-19T09:02:40.047006Z",
     "iopub.status.busy": "2020-09-19T09:02:40.045820Z",
     "iopub.status.idle": "2020-09-19T09:02:40.369183Z",
     "shell.execute_reply": "2020-09-19T09:02:40.369795Z"
    },
    "papermill": {
     "duration": 0.354215,
     "end_time": "2020-09-19T09:02:40.369973",
     "exception": false,
     "start_time": "2020-09-19T09:02:40.015758",
     "status": "completed"
    },
    "tags": []
   },
   "outputs": [
    {
     "name": "stdout",
     "output_type": "stream",
     "text": [
      "[<matplotlib.lines.Line2D object at 0x7f95d21fcf10>]\n",
      "Text(0.5, 0, 'Amount')\n",
      "Text(0, 0.5, 'Time')\n",
      "Text(0.5, 1.0, 'Amount VS Time')\n"
     ]
    },
    {
     "data": {
      "image/png": "[encoded data removed]",
      "text/plain": [
       "<Figure size 432x288 with 1 Axes>"
      ]
     },
     "metadata": {
      "needs_background": "light"
     },
     "output_type": "display_data"
    }
   ],
   "source": [
    "# Declearing the arrays \n",
    "x = np.array(my_data['Time'])\n",
    "y = np.array(my_data['Amount'])\n",
    "\n",
    "# Ploting the graph\n",
    "print(plt.plot(x,y))\n",
    "\n",
    "# Labling the graph\n",
    "print(plt.xlabel('Amount'))\n",
    "print(plt.ylabel('Time'))\n",
    "print(plt.title('Amount VS Time'))\n"
   ]
  },
  {
   "cell_type": "markdown",
   "metadata": {
    "papermill": {
     "duration": 0.021701,
     "end_time": "2020-09-19T09:02:40.412861",
     "exception": false,
     "start_time": "2020-09-19T09:02:40.391160",
     "status": "completed"
    },
    "tags": []
   },
   "source": [
    "## Bar Plot"
   ]
  },
  {
   "cell_type": "code",
   "execution_count": 10,
   "metadata": {
    "execution": {
     "iopub.execute_input": "2020-09-19T09:02:40.476590Z",
     "iopub.status.busy": "2020-09-19T09:02:40.473702Z",
     "iopub.status.idle": "2020-09-19T09:02:40.664304Z",
     "shell.execute_reply": "2020-09-19T09:02:40.663328Z"
    },
    "papermill": {
     "duration": 0.228957,
     "end_time": "2020-09-19T09:02:40.664455",
     "exception": false,
     "start_time": "2020-09-19T09:02:40.435498",
     "status": "completed"
    },
    "tags": []
   },
   "outputs": [
    {
     "name": "stdout",
     "output_type": "stream",
     "text": [
      "<BarContainer object of 10 artists>\n",
      "Text(0.5, 0, 'Amount')\n",
      "Text(0, 0.5, 'Time')\n",
      "Text(0.5, 1.0, 'Amount VS Time')\n"
     ]
    },
    {
     "data": {
      "image/png": "[encoded data removed]",
      "text/plain": [
       "<Figure size 432x288 with 1 Axes>"
      ]
     },
     "metadata": {
      "needs_background": "light"
     },
     "output_type": "display_data"
    }
   ],
   "source": [
    "# Declearing the arrays \n",
    "m = np.array(my_data.head(10)['Time'])\n",
    "n = np.array(my_data.head(10)['Amount'])\n",
    "\n",
    "# Ploting the graph\n",
    "print(plt.bar(m,n))\n",
    "\n",
    "# Labling the graph\n",
    "print(plt.xlabel('Amount'))\n",
    "print(plt.ylabel('Time'))\n",
    "print(plt.title('Amount VS Time'))"
   ]
  },
  {
   "cell_type": "markdown",
   "metadata": {
    "papermill": {
     "duration": 0.024083,
     "end_time": "2020-09-19T09:02:40.712787",
     "exception": false,
     "start_time": "2020-09-19T09:02:40.688704",
     "status": "completed"
    },
    "tags": []
   },
   "source": [
    "## Histogram"
   ]
  },
  {
   "cell_type": "code",
   "execution_count": 11,
   "metadata": {
    "execution": {
     "iopub.execute_input": "2020-09-19T09:02:40.779091Z",
     "iopub.status.busy": "2020-09-19T09:02:40.776340Z",
     "iopub.status.idle": "2020-09-19T09:02:40.983959Z",
     "shell.execute_reply": "2020-09-19T09:02:40.984676Z"
    },
    "papermill": {
     "duration": 0.248665,
     "end_time": "2020-09-19T09:02:40.984876",
     "exception": false,
     "start_time": "2020-09-19T09:02:40.736211",
     "status": "completed"
    },
    "tags": []
   },
   "outputs": [
    {
     "name": "stdout",
     "output_type": "stream",
     "text": [
      "(array([4., 2., 0., 1., 0., 2., 0., 1., 3., 2.]), array([ 0. ,  1.2,  2.4,  3.6,  4.8,  6. ,  7.2,  8.4,  9.6, 10.8, 12. ]), <a list of 10 Patch objects>)\n",
      "Text(0.5, 0, 'Amount')\n",
      "Text(0, 0.5, 'Time')\n",
      "Text(0.5, 1.0, 'Amount VS Time')\n"
     ]
    },
    {
     "data": {
      "image/png": "[encoded data removed]",
      "text/plain": [
       "<Figure size 432x288 with 1 Axes>"
      ]
     },
     "metadata": {
      "needs_background": "light"
     },
     "output_type": "display_data"
    }
   ],
   "source": [
    "# Declearing the array\n",
    "x1 = np.array(my_data.head(15)['Time'])\n",
    "\n",
    "# Ploting the histogram\n",
    "print(plt.hist(x1))\n",
    "\n",
    "# Labling the histogram\n",
    "print(plt.xlabel('Amount'))\n",
    "print(plt.ylabel('Time'))\n",
    "print(plt.title('Amount VS Time'))"
   ]
  },
  {
   "cell_type": "markdown",
   "metadata": {
    "papermill": {
     "duration": 0.026944,
     "end_time": "2020-09-19T09:02:41.036769",
     "exception": false,
     "start_time": "2020-09-19T09:02:41.009825",
     "status": "completed"
    },
    "tags": []
   },
   "source": [
    "## Scattered Plot"
   ]
  },
  {
   "cell_type": "code",
   "execution_count": 12,
   "metadata": {
    "execution": {
     "iopub.execute_input": "2020-09-19T09:02:41.097715Z",
     "iopub.status.busy": "2020-09-19T09:02:41.096664Z",
     "iopub.status.idle": "2020-09-19T09:02:41.902010Z",
     "shell.execute_reply": "2020-09-19T09:02:41.901179Z"
    },
    "papermill": {
     "duration": 0.839399,
     "end_time": "2020-09-19T09:02:41.902139",
     "exception": false,
     "start_time": "2020-09-19T09:02:41.062740",
     "status": "completed"
    },
    "tags": []
   },
   "outputs": [
    {
     "name": "stdout",
     "output_type": "stream",
     "text": [
      "<seaborn.axisgrid.JointGrid object at 0x7f95d20a5e90>\n"
     ]
    },
    {
     "data": {
      "image/png": "[encoded data removed]",
      "text/plain": [
       "<Figure size 432x432 with 3 Axes>"
      ]
     },
     "metadata": {
      "needs_background": "light"
     },
     "output_type": "display_data"
    }
   ],
   "source": [
    "# Ploting the random scatterd graph\n",
    "print(seaborn.jointplot(m,n,my_data.head(10)))"
   ]
  },
  {
   "cell_type": "code",
   "execution_count": null,
   "metadata": {
    "papermill": {
     "duration": 0.025856,
     "end_time": "2020-09-19T09:02:41.953600",
     "exception": false,
     "start_time": "2020-09-19T09:02:41.927744",
     "status": "completed"
    },
    "tags": []
   },
   "outputs": [],
   "source": []
  }
 ],
 "metadata": {
  "kernelspec": {
   "display_name": "Python 3",
   "language": "python",
   "name": "python3"
  },
  "language_info": {
   "codemirror_mode": {
    "name": "ipython",
    "version": 3
   },
   "file_extension": ".py",
   "mimetype": "text/x-python",
   "name": "python",
   "nbconvert_exporter": "python",
   "pygments_lexer": "ipython3",
   "version": "3.7.6"
  },
  "papermill": {
   "duration": 14.523682,
   "end_time": "2020-09-19T09:02:42.088069",
   "environment_variables": {},
   "exception": null,
   "input_path": "__notebook__.ipynb",
   "output_path": "__notebook__.ipynb",
   "parameters": {},
   "start_time": "2020-09-19T09:02:27.564387",
   "version": "2.1.0"
  }
 },
 "nbformat": 4,
 "nbformat_minor": 4
}
