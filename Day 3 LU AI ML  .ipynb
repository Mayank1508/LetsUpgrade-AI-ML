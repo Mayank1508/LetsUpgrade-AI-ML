{
 "cells": [
  {
   "cell_type": "markdown",
   "metadata": {},
   "source": [
    "## Assignment Day 3"
   ]
  },
  {
   "cell_type": "markdown",
   "metadata": {},
   "source": [
    "### 1. Write a program to subtract two complex numbers in Python."
   ]
  },
  {
   "cell_type": "code",
   "execution_count": 6,
   "metadata": {},
   "outputs": [
    {
     "name": "stdout",
     "output_type": "stream",
     "text": [
      "Enter 1st complex no in the form of a+bj: 4+2j\n",
      "Enter 2nd complex no in the form of x+yj: 4+3j\n",
      "\n",
      "Subtraction is  -1j\n"
     ]
    }
   ],
   "source": [
    "# Taking input from the user\n",
    "c1 = complex(input('Enter 1st complex no in the form of a+bj: '))\n",
    "c2 = complex(input('Enter 2nd complex no in the form of x+yj: '))\n",
    "\n",
    "# Main formula \n",
    "subtracted_cn = c1 - c2 \n",
    "\n",
    "# O/P printing\n",
    "print('\\nSubtraction is ',subtracted_cn)"
   ]
  },
  {
   "cell_type": "markdown",
   "metadata": {},
   "source": [
    "### 2. Write a program to find the fourth root of a number."
   ]
  },
  {
   "cell_type": "code",
   "execution_count": 10,
   "metadata": {},
   "outputs": [
    {
     "name": "stdout",
     "output_type": "stream",
     "text": [
      "Enter a number: 16\n",
      "\n",
      "The 4th root of the 16.0 is 2.0\n"
     ]
    }
   ],
   "source": [
    "# taking I/P from the user\n",
    "number = float(input('Enter a number: '))\n",
    "\n",
    "# printing O/P + Logic\n",
    "print('\\nThe 4th root of the',number,'is',number**(1/4))"
   ]
  },
  {
   "cell_type": "markdown",
   "metadata": {},
   "source": [
    "### 3. Write a program to swap two numbers in Python with the help of a temporary variable."
   ]
  },
  {
   "cell_type": "code",
   "execution_count": 24,
   "metadata": {},
   "outputs": [
    {
     "name": "stdout",
     "output_type": "stream",
     "text": [
      "Enter x number: 1\n",
      "Enter y number: 2\n",
      "\n",
      "After swapping x = 2 and y = 1\n"
     ]
    }
   ],
   "source": [
    "# Taking input from the user\n",
    "x = input('Enter x number: ')\n",
    "y = input('Enter y number: ')\n",
    "\n",
    "# Main logic\n",
    "temp = x\n",
    "x = y\n",
    "y = temp\n",
    "\n",
    "# printing o/p\n",
    "print('\\nAfter swapping x = %s and y = %s'%(x,y))"
   ]
  },
  {
   "cell_type": "markdown",
   "metadata": {},
   "source": [
    "### 4. Write a program to swap two numbers in Python without using a temporary variable."
   ]
  },
  {
   "cell_type": "code",
   "execution_count": 25,
   "metadata": {},
   "outputs": [
    {
     "name": "stdout",
     "output_type": "stream",
     "text": [
      "Enter x number: 1\n",
      "Enter y number: 2\n",
      "\n",
      "After swapping x = 2 and y = 1\n"
     ]
    }
   ],
   "source": [
    "# Taking input from the user\n",
    "x = input('Enter x number: ')\n",
    "y = input('Enter y number: ')\n",
    "\n",
    "# printing o/p + logic\n",
    "print('\\nAfter swapping x = %s and y = %s'%(y,x))"
   ]
  },
  {
   "cell_type": "markdown",
   "metadata": {},
   "source": [
    "### 5. Write a program to convert Fahrenheit to kelvin and celsius both."
   ]
  },
  {
   "cell_type": "code",
   "execution_count": 27,
   "metadata": {},
   "outputs": [
    {
     "name": "stdout",
     "output_type": "stream",
     "text": [
      "Enter the temperature in fahrenheit: 212\n",
      "\n",
      "Temperature in celsius is 100.0 and in kelvin is 373.15\n"
     ]
    }
   ],
   "source": [
    "# Taking I/P from user\n",
    "fahrenheit = float(input('Enter the temperature in fahrenheit: '))\n",
    "\n",
    "# Formula for conversion\n",
    "celsius = ((fahrenheit-32)/9)*5\n",
    "\n",
    "# Printing the O/P\n",
    "print('\\nTemperature in celsius is %s and in kelvin is %s'%(celsius,celsius+273.15))"
   ]
  },
  {
   "cell_type": "markdown",
   "metadata": {},
   "source": [
    "### 6. Write a program to demonstrate all the available data types in Python. Hint: Use type() function."
   ]
  },
  {
   "cell_type": "code",
   "execution_count": 41,
   "metadata": {},
   "outputs": [
    {
     "name": "stdout",
     "output_type": "stream",
     "text": [
      "\n",
      " <class 'int'>\n",
      "\n",
      " <class 'float'>\n",
      "\n",
      " <class 'complex'>\n",
      "\n",
      " <class 'str'>\n",
      "\n",
      " <class 'list'>\n",
      "\n",
      " <class 'tuple'>\n",
      "\n",
      " <class 'set'>\n",
      "\n",
      " <class 'dict'>\n"
     ]
    }
   ],
   "source": [
    "# Integer\n",
    "print('\\n',type(1234))\n",
    "\n",
    "# Float\n",
    "print('\\n',type(55.50))\n",
    "\n",
    "# Complex\n",
    "print('\\n',type(6+4j))\n",
    "\n",
    "# String\n",
    "print('\\n',type(\"hello\"))\n",
    "\n",
    "# List\n",
    "print('\\n',type([1,2,3,4]))\n",
    "\n",
    "# Tuple\n",
    "print('\\n',type((1,2,3,4)))\n",
    "\n",
    "# Set\n",
    "print('\\n',type({1,2,3,4}))\n",
    "\n",
    "# Dictionary\n",
    "print('\\n',type({1:\"one\", 2:\"two\", 3:\"three\"}))"
   ]
  },
  {
   "cell_type": "markdown",
   "metadata": {},
   "source": [
    "### 7. Create a Markdown cell in Jupyter and list the steps discussed in the session by Dr. Darshan Ingle sir to create a Github profile and upload the Githubs Assignment link."
   ]
  },
  {
   "cell_type": "markdown",
   "metadata": {},
   "source": [
    "###  Steps to create github profile and uploadind the github assignment links\n",
    "<ol>\n",
    "<li>Sign up to github if you dont have an account.</li>\n",
    "<li>Create a folder named by number of day you are doing the assignment and put the assignment in that folder.</li>\n",
    "<li>Go to new option near Repository and create a new repository</li>\n",
    "<li>Go to \"upload an existing file\" option</li>\n",
    "<li>Drag and drop the folder and click on comit changes</li>\n",
    "<li>Copy the link of the file and paste it in the assignment submission file</li>\n",
    "</ol>"
   ]
  }
 ],
 "metadata": {
  "kernelspec": {
   "display_name": "Python 3",
   "language": "python",
   "name": "python3"
  },
  "language_info": {
   "codemirror_mode": {
    "name": "ipython",
    "version": 3
   },
   "file_extension": ".py",
   "mimetype": "text/x-python",
   "name": "python",
   "nbconvert_exporter": "python",
   "pygments_lexer": "ipython3",
   "version": "3.8.3"
  }
 },
 "nbformat": 4,
 "nbformat_minor": 4
}
