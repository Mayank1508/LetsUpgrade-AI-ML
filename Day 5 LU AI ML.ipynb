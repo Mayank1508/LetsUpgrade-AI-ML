{
 "cells": [
  {
   "cell_type": "markdown",
   "metadata": {},
   "source": [
    "## Assignment Day 5"
   ]
  },
  {
   "cell_type": "markdown",
   "metadata": {},
   "source": [
    "### 1. Write a Python program to find the first 20 non-even prime natural numbers."
   ]
  },
  {
   "cell_type": "code",
   "execution_count": 1,
   "metadata": {},
   "outputs": [
    {
     "name": "stdout",
     "output_type": "stream",
     "text": [
      "3 5 7 11 13 17 19 23 29 31 37 41 43 47 53 59 61 67 71 73 "
     ]
    }
   ],
   "source": [
    "# Function to check for prime number\n",
    "def isprime(num=1):\n",
    "    if num > 1:   \n",
    "        for i in range(2, num):\n",
    "            if (num % i) == 0: \n",
    "                return False \n",
    "                break\n",
    "        else: \n",
    "            return True \n",
    "    return False\n",
    "\n",
    "# Function to check for even number\n",
    "def iseven(n):\n",
    "    if n % 2 == 0:\n",
    "        return True\n",
    "    return False\n",
    "\n",
    "# Logic for printing 1st 20 non-even prime number\n",
    "for i in range(1,75):\n",
    "    if isprime(i) == True and iseven(i) == False:\n",
    "        print(i,end=' ')"
   ]
  },
  {
   "cell_type": "markdown",
   "metadata": {},
   "source": [
    "### 2. Write a Python program to implement 15 functions of string."
   ]
  },
  {
   "cell_type": "code",
   "execution_count": 2,
   "metadata": {},
   "outputs": [
    {
     "name": "stdout",
     "output_type": "stream",
     "text": [
      "\n",
      "Capitalized string is Mayank\n",
      "\n",
      "Index value of D is 2\n",
      "\n",
      " india\n",
      "\n",
      " MAYANK\n",
      "\n",
      " False\n",
      "\n",
      " True\n",
      "\n",
      " True\n",
      "\n",
      " True\n",
      "\n",
      " ['Mayank', 'Shelar']\n",
      "\n",
      " False\n",
      "\n",
      " 4\n",
      "\n",
      " True\n",
      "\n",
      " 123Shelar\n",
      "\n",
      " True\n"
     ]
    }
   ],
   "source": [
    "# 1\n",
    "string = 'mayank'\n",
    "print('\\nCapitalized string is',string.capitalize())\n",
    "\n",
    "# 2 \n",
    "string1 = 'INDIA'\n",
    "print('\\nIndex value of D is',string1.index('D'))\n",
    "\n",
    "# 3\n",
    "print('\\n',string1.lower())\n",
    "\n",
    "# 4\n",
    "print('\\n',string.upper())\n",
    "\n",
    "# 5 \n",
    "print('\\n',string.isdigit())\n",
    "\n",
    "# 6\n",
    "print('\\n',string.islower())\n",
    "\n",
    "# 7\n",
    "print('\\n',string1.isupper())\n",
    "\n",
    "# 8\n",
    "string2 = '1234'\n",
    "print('\\n',string2.isnumeric())\n",
    "\n",
    "# 9\n",
    "string3 = 'Mayank Shelar'\n",
    "print('\\n',string3.split(' '))\n",
    "\n",
    "# 10\n",
    "string4 = 'Hi Letsupgrade'\n",
    "print('\\n',string4.isspace())\n",
    "\n",
    "# 11 \n",
    "print('\\n',string4.find('e'))\n",
    "\n",
    "# 12\n",
    "print('\\n',string.endswith('k'))\n",
    "\n",
    "# 13\n",
    "print('\\n',string2.replace('4','Shelar'))\n",
    "\n",
    "# 15\n",
    "print('\\n',string3.isprintable())"
   ]
  },
  {
   "cell_type": "markdown",
   "metadata": {},
   "source": [
    "### 4. Write a Python program to check if the given string is a Palindrome or Anagram or None of them. Display the message accordingly to the user."
   ]
  },
  {
   "cell_type": "code",
   "execution_count": 3,
   "metadata": {},
   "outputs": [
    {
     "name": "stdout",
     "output_type": "stream",
     "text": [
      "True\n",
      "True\n"
     ]
    }
   ],
   "source": [
    "# Function to check anagram\n",
    "def is_anagram(str1, str2):\n",
    "    list_str1 = list(str1)\n",
    "    list_str1.sort()\n",
    "    list_str2 = list(str2)\n",
    "    list_str2.sort()\n",
    "\n",
    "    return (list_str1 == list_str2)\n",
    "\n",
    "# function to check Palindrome\n",
    "def check_if_palindrome(s):\n",
    "    return s == s[::-1]\n",
    "\n",
    "# testing the function\n",
    "print(is_anagram('listen','silent'))\n",
    "print(check_if_palindrome('dad'))"
   ]
  },
  {
   "cell_type": "markdown",
   "metadata": {},
   "source": [
    "### 4. Write a Python's user-defined function that removes all the additional characters from the string and convert it finally to lower case using built-in lower(). eg: If the string is \"Dr. Darshan Ingle @AIML Trainer\", then the output be \"drdarshaningleaimltrainer\"."
   ]
  },
  {
   "cell_type": "code",
   "execution_count": 4,
   "metadata": {},
   "outputs": [
    {
     "name": "stdout",
     "output_type": "stream",
     "text": [
      "shelarmayank1234gmailcom\n"
     ]
    }
   ],
   "source": [
    "# Function for removing all the specialcharater from the string\n",
    "def converter(a_string =  \"Dr. Darshan Ingle @AIML Trainer\"):\n",
    "    alphanumeric = \"\"\n",
    "    for character in a_string:\n",
    "        if character.isalnum():\n",
    "            alphanumeric += character\n",
    "    print(alphanumeric.lower())\n",
    "    \n",
    "# Testingb the function\n",
    "converter('shelarmayank1234@gmail.com')"
   ]
  }
 ],
 "metadata": {
  "kernelspec": {
   "display_name": "Python 3",
   "language": "python",
   "name": "python3"
  },
  "language_info": {
   "codemirror_mode": {
    "name": "ipython",
    "version": 3
   },
   "file_extension": ".py",
   "mimetype": "text/x-python",
   "name": "python",
   "nbconvert_exporter": "python",
   "pygments_lexer": "ipython3",
   "version": "3.8.3"
  }
 },
 "nbformat": 4,
 "nbformat_minor": 4
}
