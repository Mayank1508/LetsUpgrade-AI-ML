{
 "cells": [
  {
   "cell_type": "markdown",
   "metadata": {},
   "source": [
    "# Assignment Day 4"
   ]
  },
  {
   "cell_type": "markdown",
   "metadata": {},
   "source": [
    "## Question 1 : Research on whether addition, subtraction, multiplication, division, floor division, and modulo operations be performed on complex numbers. Based on your study, implement a Python program to demonstrate these operations."
   ]
  },
  {
   "cell_type": "code",
   "execution_count": 1,
   "metadata": {},
   "outputs": [
    {
     "name": "stdout",
     "output_type": "stream",
     "text": [
      "Addition is (8+40j)\n",
      "\n",
      "Subtraction is (-2-32j)\n"
     ]
    }
   ],
   "source": [
    "# In addition and subtracrion of complex numbers like parts are added or subtracted.\n",
    "# Given two complex numbers z1 and z2. The task is to add and subtract the given complex numbers.\n",
    "# Addition of complex number: In Python, complex numbers can be added using + operator.\n",
    "\n",
    "# Declaring the variables and assigning the value\n",
    "z1 = 3 + 4j\n",
    "z2 = 5 + 36j\n",
    "\n",
    "# Operation for adding and subtracting\n",
    "add = z1 + z2\n",
    "sub = z1 - z2\n",
    "\n",
    "# Printing O/P\n",
    "print('Addition is',add)\n",
    "print('\\nSubtraction is',sub)"
   ]
  },
  {
   "cell_type": "code",
   "execution_count": 2,
   "metadata": {},
   "outputs": [
    {
     "name": "stdout",
     "output_type": "stream",
     "text": [
      "Multiplication is (-129+128j)\n",
      "\n",
      "Division is (0.12036336109008329-0.06661619984859955j)\n"
     ]
    }
   ],
   "source": [
    "# In multiplication of complex numbers normal bracket multiplication is applied.\n",
    "\n",
    "# Operation for multiplication\n",
    "mul = z1*z2\n",
    "\n",
    "# printing O/P\n",
    "print('Multiplication is',mul)\n",
    "\n",
    "# In division of complex number the imaginary term from the denominator is removed by multiplying and dividing by conjugate of the denominator.\n",
    "\n",
    "# Operation for division \n",
    "div = z1/z2\n",
    "\n",
    "# printing O/P\n",
    "print('\\nDivision is',div)\n",
    "\n",
    "# mudulo and floor division are not applied to complex number"
   ]
  },
  {
   "cell_type": "markdown",
   "metadata": {},
   "source": [
    "## Question 2 : Research on range() functions and its parameters. Create a markdown cell and write in your own words (no copy-paste from google please) what you understand about it. Implement a small program of your choice on the same."
   ]
  },
  {
   "cell_type": "code",
   "execution_count": 3,
   "metadata": {},
   "outputs": [
    {
     "name": "stdout",
     "output_type": "stream",
     "text": [
      "This is the documentation for range function given by python:\n",
      "\n",
      "Help on class range in module builtins:\n",
      "\n",
      "class range(object)\n",
      " |  range(stop) -> range object\n",
      " |  range(start, stop[, step]) -> range object\n",
      " |  \n",
      " |  Return an object that produces a sequence of integers from start (inclusive)\n",
      " |  to stop (exclusive) by step.  range(i, j) produces i, i+1, i+2, ..., j-1.\n",
      " |  start defaults to 0, and stop is omitted!  range(4) produces 0, 1, 2, 3.\n",
      " |  These are exactly the valid indices for a list of 4 elements.\n",
      " |  When step is given, it specifies the increment (or decrement).\n",
      " |  \n",
      " |  Methods defined here:\n",
      " |  \n",
      " |  __bool__(self, /)\n",
      " |      self != 0\n",
      " |  \n",
      " |  __contains__(self, key, /)\n",
      " |      Return key in self.\n",
      " |  \n",
      " |  __eq__(self, value, /)\n",
      " |      Return self==value.\n",
      " |  \n",
      " |  __ge__(self, value, /)\n",
      " |      Return self>=value.\n",
      " |  \n",
      " |  __getattribute__(self, name, /)\n",
      " |      Return getattr(self, name).\n",
      " |  \n",
      " |  __getitem__(self, key, /)\n",
      " |      Return self[key].\n",
      " |  \n",
      " |  __gt__(self, value, /)\n",
      " |      Return self>value.\n",
      " |  \n",
      " |  __hash__(self, /)\n",
      " |      Return hash(self).\n",
      " |  \n",
      " |  __iter__(self, /)\n",
      " |      Implement iter(self).\n",
      " |  \n",
      " |  __le__(self, value, /)\n",
      " |      Return self<=value.\n",
      " |  \n",
      " |  __len__(self, /)\n",
      " |      Return len(self).\n",
      " |  \n",
      " |  __lt__(self, value, /)\n",
      " |      Return self<value.\n",
      " |  \n",
      " |  __ne__(self, value, /)\n",
      " |      Return self!=value.\n",
      " |  \n",
      " |  __reduce__(...)\n",
      " |      Helper for pickle.\n",
      " |  \n",
      " |  __repr__(self, /)\n",
      " |      Return repr(self).\n",
      " |  \n",
      " |  __reversed__(...)\n",
      " |      Return a reverse iterator.\n",
      " |  \n",
      " |  count(...)\n",
      " |      rangeobject.count(value) -> integer -- return number of occurrences of value\n",
      " |  \n",
      " |  index(...)\n",
      " |      rangeobject.index(value) -> integer -- return index of value.\n",
      " |      Raise ValueError if the value is not present.\n",
      " |  \n",
      " |  ----------------------------------------------------------------------\n",
      " |  Static methods defined here:\n",
      " |  \n",
      " |  __new__(*args, **kwargs) from builtins.type\n",
      " |      Create and return a new object.  See help(type) for accurate signature.\n",
      " |  \n",
      " |  ----------------------------------------------------------------------\n",
      " |  Data descriptors defined here:\n",
      " |  \n",
      " |  start\n",
      " |  \n",
      " |  step\n",
      " |  \n",
      " |  stop\n",
      "\n"
     ]
    }
   ],
   "source": [
    "print('This is the documentation for range function given by python:\\n')\n",
    "help(range)"
   ]
  },
  {
   "cell_type": "markdown",
   "metadata": {},
   "source": [
    "### range()\n",
    "<ol>\n",
    "<li>range() is the built in function in python.</li>\n",
    "<li>The range() function is used to generate a sequence of numbers.</li>\n",
    "<li>range() is commonly used in for looping.</li>\n",
    "<li>The 1st parameter is inclusive and the 2nd parameter is exclusive for range()</li>\n",
    "</ol>"
   ]
  },
  {
   "cell_type": "code",
   "execution_count": 4,
   "metadata": {},
   "outputs": [
    {
     "name": "stdout",
     "output_type": "stream",
     "text": [
      "0 1 2 3 4 5 6 7 8 9 "
     ]
    }
   ],
   "source": [
    "for i in range(0,10): \n",
    "    print(i, end =\" \") "
   ]
  },
  {
   "cell_type": "markdown",
   "metadata": {},
   "source": [
    "## Question 3: Consider two numbers. Perform their subtraction and if the result of subtraction is greater than 25, print their multiplication result else print their division result."
   ]
  },
  {
   "cell_type": "code",
   "execution_count": 5,
   "metadata": {},
   "outputs": [
    {
     "name": "stdout",
     "output_type": "stream",
     "text": [
      "Enter the 1st number: 100\n",
      "Enter the 2nd number: 25\n",
      "\n",
      "Multiplication of 100.0 and 25.0 is 2500.0\n"
     ]
    }
   ],
   "source": [
    "# Taking input from the user\n",
    "n1 = float(input('Enter the 1st number: '))\n",
    "n2 = float(input('Enter the 2nd number: '))\n",
    "\n",
    "# operation for subtraction\n",
    "n3 = n1 - n2\n",
    "\n",
    "# logic for checking the result of subtraction and printing o/p\n",
    "if n3 > 25:\n",
    "    print('\\nMultiplication of %s and %s is %s'%(n1,n2,n1*n2))\n",
    "else:\n",
    "    print('\\nDivision of %s and %s is %s'%(n1,n2,n1/n2))"
   ]
  },
  {
   "cell_type": "markdown",
   "metadata": {},
   "source": [
    "## Question 4: Consider a list of 10 elements of integer values. If the number in the list is divisible by 2, print the result as \"square of that number minus 2\"."
   ]
  },
  {
   "cell_type": "code",
   "execution_count": 6,
   "metadata": {},
   "outputs": [
    {
     "name": "stdout",
     "output_type": "stream",
     "text": [
      "\n",
      "Result = 2\n",
      "\n",
      "Result = 14\n",
      "\n",
      "Result = 34\n",
      "\n",
      "Result = 62\n",
      "\n",
      "Result = 98\n"
     ]
    }
   ],
   "source": [
    "# declaration of the list\n",
    "lst = [1,2,3,4,5,6,7,8,9,10]\n",
    "\n",
    "# operation on the list elements and printing the O/P \n",
    "for i in lst:\n",
    "    if i%2==0:\n",
    "        print('\\nResult =',(i*i)-2)"
   ]
  },
  {
   "cell_type": "markdown",
   "metadata": {},
   "source": [
    "## Question 5: Consider a list of 10 elements. Print all the elements in the list which are greater than 7 when that number is divided 2."
   ]
  },
  {
   "cell_type": "code",
   "execution_count": 7,
   "metadata": {},
   "outputs": [
    {
     "name": "stdout",
     "output_type": "stream",
     "text": [
      "23 266 366 95 1000 444 "
     ]
    }
   ],
   "source": [
    "# Declaring the list\n",
    "lst1 = [23,266,366,95,6,4,3,7,1000,444]\n",
    "\n",
    "# Logic and printing the O/P\n",
    "for i in lst1:\n",
    "    if i/2 > 7:\n",
    "        print(i, end=' ')"
   ]
  }
 ],
 "metadata": {
  "kernelspec": {
   "display_name": "Python 3",
   "language": "python",
   "name": "python3"
  },
  "language_info": {
   "codemirror_mode": {
    "name": "ipython",
    "version": 3
   },
   "file_extension": ".py",
   "mimetype": "text/x-python",
   "name": "python",
   "nbconvert_exporter": "python",
   "pygments_lexer": "ipython3",
   "version": "3.8.3"
  }
 },
 "nbformat": 4,
 "nbformat_minor": 4
}
