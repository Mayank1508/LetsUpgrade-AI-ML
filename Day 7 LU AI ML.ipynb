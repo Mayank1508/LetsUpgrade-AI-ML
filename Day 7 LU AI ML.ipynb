{
 "cells": [
  {
   "cell_type": "markdown",
   "metadata": {},
   "source": [
    "### Question 1:\n",
    "Write a program to copy the contents of one file to another using a for loop. (Don’t use built-in copy\n",
    "function)"
   ]
  },
  {
   "cell_type": "code",
   "execution_count": 1,
   "metadata": {},
   "outputs": [
    {
     "name": "stdout",
     "output_type": "stream",
     "text": [
      "Hi Lets Upgrade\n"
     ]
    }
   ],
   "source": [
    "# open file in read mode \n",
    "fn = open('bcd.txt', 'r') \n",
    "  \n",
    "# open other file in write mode \n",
    "fn1 = open('nfile.txt', 'w') \n",
    "  \n",
    "# read the content of the file line by line \n",
    "cont = fn.readlines() \n",
    "\n",
    "for i in range(0, len(cont)): \n",
    "     fn1.write(cont[i]) \n",
    "   \n",
    "  \n",
    "# close the file \n",
    "fn1.close() \n",
    "  \n",
    "# open file in read mode \n",
    "fn1 = open('nfile.txt', 'r') \n",
    "  \n",
    "# read the content of the file \n",
    "cont1 = fn1.read() \n",
    "  \n",
    "# print the content of the file \n",
    "print(cont1) \n",
    "  \n",
    "# close all files \n",
    "fn.close() \n",
    "fn1.close() "
   ]
  },
  {
   "cell_type": "markdown",
   "metadata": {},
   "source": [
    "### Question 2:\n",
    "Write a Python program to find maximum and minimum values in the dictionary. Do not use built-in min\n",
    "and max functions."
   ]
  },
  {
   "cell_type": "code",
   "execution_count": 2,
   "metadata": {},
   "outputs": [
    {
     "name": "stdout",
     "output_type": "stream",
     "text": [
      "Minimum value is 1\n",
      "\n",
      "Maximum value is 3\n"
     ]
    }
   ],
   "source": [
    "# Declaring the dictonary \n",
    "dict1 = {'a':3,'b':2,'c':1}\n",
    "\n",
    "# Making the list of values\n",
    "list_of_values = list(dict1.values())\n",
    "\n",
    "# Arranging in list in ascending order\n",
    "list_of_values.sort()\n",
    "\n",
    "# printing the O/P\n",
    "print('Minimum value is %s\\n\\nMaximum value is %s'%(list_of_values[0],list_of_values[-1]))"
   ]
  },
  {
   "cell_type": "code",
   "execution_count": null,
   "metadata": {},
   "outputs": [],
   "source": []
  }
 ],
 "metadata": {
  "kernelspec": {
   "display_name": "Python 3",
   "language": "python",
   "name": "python3"
  },
  "language_info": {
   "codemirror_mode": {
    "name": "ipython",
    "version": 3
   },
   "file_extension": ".py",
   "mimetype": "text/x-python",
   "name": "python",
   "nbconvert_exporter": "python",
   "pygments_lexer": "ipython3",
   "version": "3.8.3"
  }
 },
 "nbformat": 4,
 "nbformat_minor": 4
}
