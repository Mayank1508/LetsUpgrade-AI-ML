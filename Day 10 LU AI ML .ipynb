{
 "cells": [
  {
   "cell_type": "code",
   "execution_count": 1,
   "metadata": {},
   "outputs": [],
   "source": [
    "# importing numpy lib\n",
    "import numpy as np"
   ]
  },
  {
   "cell_type": "markdown",
   "metadata": {},
   "source": [
    "### Question 1:\n",
    "Create an element-wise comparison (greater, greater_equal, less and less_equal) of two given arrays"
   ]
  },
  {
   "cell_type": "code",
   "execution_count": 2,
   "metadata": {},
   "outputs": [
    {
     "name": "stdout",
     "output_type": "stream",
     "text": [
      "1st array:\n",
      "[[  1 102   8]\n",
      " [ 69  32 287]]\n",
      "\n",
      "2nd array:\n",
      "[[   1 2020   57]\n",
      " [   4   89  865]]\n",
      "\n",
      "Comparison - greater\n",
      "[[False False False]\n",
      " [ True False False]]\n",
      "\n",
      "Comparison - greater_equal\n",
      "[[ True False False]\n",
      " [ True False False]]\n",
      "\n",
      "Comparison - less\n",
      "[[False  True  True]\n",
      " [False  True  True]]\n",
      "\n",
      "Comparison - less_equal\n",
      "[[ True  True  True]\n",
      " [False  True  True]]\n"
     ]
    }
   ],
   "source": [
    "# Declaring two arrays\n",
    "array1 = np.array([[1,102,8],[69,32,287]])\n",
    "array2 = np.array([[1,2020,57],[4,89,865]])\n",
    "\n",
    "# Printing 1st array\n",
    "print(\"1st array:\")\n",
    "print(array1)\n",
    "\n",
    "# Printing 2nd array\n",
    "print(\"\\n2nd array:\")\n",
    "print(array2)\n",
    "\n",
    "# checking elements of 1st array are greater than elements of 2nd array\n",
    "print(\"\\nComparison - greater\")\n",
    "print(np.greater(array1, array2))\n",
    "\n",
    "# checking elements of 1st array are greater than equal to elements of 2nd array\n",
    "print(\"\\nComparison - greater_equal\")\n",
    "print(np.greater_equal(array1, array2))\n",
    "\n",
    "# checking elements of 1st array are less than elements of 2nd array\n",
    "print(\"\\nComparison - less\")\n",
    "print(np.less(array1, array2))\n",
    "\n",
    "# checking elements of 1st array are less than equal to elements of 2nd array\n",
    "print(\"\\nComparison - less_equal\")\n",
    "print(np.less_equal(array1, array2))"
   ]
  },
  {
   "cell_type": "markdown",
   "metadata": {},
   "source": [
    "### Question 2:\n",
    "Write a NumPy program to create an array of 10 zeros,10 ones, 10 fives"
   ]
  },
  {
   "cell_type": "code",
   "execution_count": 3,
   "metadata": {},
   "outputs": [
    {
     "name": "stdout",
     "output_type": "stream",
     "text": [
      "Array of 10 zeros:\n",
      "[[0. 0.]\n",
      " [0. 0.]\n",
      " [0. 0.]\n",
      " [0. 0.]\n",
      " [0. 0.]]\n",
      "\n",
      "Size of above array:\n",
      "(5, 2)\n",
      "\n",
      "Array of 10 ones:\n",
      "[[1. 1. 1. 1. 1.]\n",
      " [1. 1. 1. 1. 1.]]\n",
      "\n",
      "Size of above array:\n",
      "(2, 5)\n",
      "\n",
      "Array of 10 fives:\n",
      "[5 5 5 5 5 5 5 5 5 5]\n",
      "\n",
      "Size of above array:\n",
      "(10,)\n"
     ]
    }
   ],
   "source": [
    "# Printing array of 10 zeros\n",
    "array_of_zeros = np.zeros((5,2))\n",
    "print('Array of 10 zeros:')\n",
    "print(array_of_zeros)\n",
    "print('\\nSize of above array:')\n",
    "print(array_of_zeros.shape)\n",
    "\n",
    "# Printing array of 10 ones\n",
    "array_of_ones = np.ones((2,5))\n",
    "print('\\nArray of 10 ones:')\n",
    "print(array_of_ones)\n",
    "print('\\nSize of above array:')\n",
    "print(array_of_ones.shape)\n",
    "\n",
    "# Printing the array of 10 fives\n",
    "array_of_fives = np.full((10),5) \n",
    "print('\\nArray of 10 fives:')\n",
    "print(array_of_fives)\n",
    "print('\\nSize of above array:')\n",
    "print(array_of_fives.shape)"
   ]
  },
  {
   "cell_type": "markdown",
   "metadata": {},
   "source": [
    "### Question 4:\n",
    "Write a NumPy program to add, subtract, multiply, divide arguments element-wise."
   ]
  },
  {
   "cell_type": "code",
   "execution_count": 4,
   "metadata": {},
   "outputs": [
    {
     "name": "stdout",
     "output_type": "stream",
     "text": [
      "Addition is:\n",
      "[[ 101 3042   65]\n",
      " [ 115  221 1152]]\n",
      "\n",
      "Subtraction is:\n",
      "[[ -99 -998  -49]\n",
      " [  23   43 -578]]\n",
      "\n",
      "Multiplication is:\n",
      "[[    100 2064440     456]\n",
      " [   3174   11748  248255]]\n",
      "\n",
      "Division is:\n",
      "[[0.01       0.50594059 0.14035088]\n",
      " [1.5        1.48314607 0.33179191]]\n"
     ]
    }
   ],
   "source": [
    "# Declaring two arrays\n",
    "array1 = np.array([[1,1022,8],[69,132,287]])\n",
    "array2 = np.array([[100,2020,57],[46,89,865]])\n",
    "\n",
    "# Addition of arrays\n",
    "print('Addition is:')\n",
    "print(np.add(array1,array2))\n",
    "\n",
    "# Subtarction of arrays\n",
    "print('\\nSubtraction is:')\n",
    "print(np.subtract(array1,array2))  \n",
    "\n",
    "# Multiplication of arrays\n",
    "print('\\nMultiplication is:')\n",
    "print(np.multiply(array1,array2))\n",
    "\n",
    "# Division of arrays\n",
    "print('\\nDivision is:')\n",
    "print(np.divide(array1,array2))"
   ]
  },
  {
   "cell_type": "markdown",
   "metadata": {},
   "source": [
    "### Question 5:\n",
    "Write a NumPy program to compute the trigonometric sine, cosine and tangent array of angles given in\n",
    "degree."
   ]
  },
  {
   "cell_type": "code",
   "execution_count": 5,
   "metadata": {},
   "outputs": [
    {
     "name": "stdout",
     "output_type": "stream",
     "text": [
      "sin(array):\n",
      "\n",
      " [[ 0.89399666 -0.30481062  0.85090352]\n",
      " [-0.98803162 -0.80115264  0.95891572]]\n",
      "\n",
      "cos(array):\n",
      "\n",
      " [[-0.44807362 -0.95241298  0.52532199]\n",
      " [ 0.15425145 -0.59846007 -0.28369109]]\n",
      "\n",
      "tan(array):\n",
      "\n",
      " [[-1.99520041  0.32004039  1.61977519]\n",
      " [-6.4053312   1.33869021 -3.38014041]]\n"
     ]
    }
   ],
   "source": [
    "# Declearing the array\n",
    "array_of_thita = np.array([[90,60,45],[30,180,360]])\n",
    "\n",
    "# Taking sine of array\n",
    "print('sin(array):')\n",
    "print('\\n',np.sin(array_of_thita))\n",
    "\n",
    "# Taking cosine of array\n",
    "print('\\ncos(array):')\n",
    "print('\\n',np.cos(array_of_thita))\n",
    "\n",
    "# Taking tangent of array\n",
    "print('\\ntan(array):')\n",
    "print('\\n',np.tan(array_of_thita))"
   ]
  },
  {
   "cell_type": "code",
   "execution_count": null,
   "metadata": {},
   "outputs": [],
   "source": []
  }
 ],
 "metadata": {
  "kernelspec": {
   "display_name": "Python 3",
   "language": "python",
   "name": "python3"
  },
  "language_info": {
   "codemirror_mode": {
    "name": "ipython",
    "version": 3
   },
   "file_extension": ".py",
   "mimetype": "text/x-python",
   "name": "python",
   "nbconvert_exporter": "python",
   "pygments_lexer": "ipython3",
   "version": "3.8.3"
  }
 },
 "nbformat": 4,
 "nbformat_minor": 4
}
