{
 "cells": [
  {
   "cell_type": "code",
   "execution_count": 1,
   "metadata": {},
   "outputs": [],
   "source": [
    "# importing numpy lib\n",
    "import numpy as np\n",
    "import pandas as pd"
   ]
  },
  {
   "cell_type": "markdown",
   "metadata": {},
   "source": [
    "### Question 1:\n",
    "Create an element-wise comparison (greater, greater_equal, less and less_equal) of two given arrays"
   ]
  },
  {
   "cell_type": "code",
   "execution_count": 2,
   "metadata": {},
   "outputs": [
    {
     "name": "stdout",
     "output_type": "stream",
     "text": [
      "1st array:\n",
      "[[  1 102   8]\n",
      " [ 69  32 287]]\n",
      "\n",
      "2nd array:\n",
      "[[   1 2020   57]\n",
      " [   4   89  865]]\n",
      "\n",
      "Comparison - greater\n",
      "[[False False False]\n",
      " [ True False False]]\n",
      "\n",
      "Comparison - greater_equal\n",
      "[[ True False False]\n",
      " [ True False False]]\n",
      "\n",
      "Comparison - less\n",
      "[[False  True  True]\n",
      " [False  True  True]]\n",
      "\n",
      "Comparison - less_equal\n",
      "[[ True  True  True]\n",
      " [False  True  True]]\n"
     ]
    }
   ],
   "source": [
    "# Declaring two arrays\n",
    "array1 = np.array([[1,102,8],[69,32,287]])\n",
    "array2 = np.array([[1,2020,57],[4,89,865]])\n",
    "\n",
    "# Printing 1st array\n",
    "print(\"1st array:\")\n",
    "print(array1)\n",
    "\n",
    "# Printing 2nd array\n",
    "print(\"\\n2nd array:\")\n",
    "print(array2)\n",
    "\n",
    "# checking elements of 1st array are greater than elements of 2nd array\n",
    "print(\"\\nComparison - greater\")\n",
    "print(np.greater(array1, array2))\n",
    "\n",
    "# checking elements of 1st array are greater than equal to elements of 2nd array\n",
    "print(\"\\nComparison - greater_equal\")\n",
    "print(np.greater_equal(array1, array2))\n",
    "\n",
    "# checking elements of 1st array are less than elements of 2nd array\n",
    "print(\"\\nComparison - less\")\n",
    "print(np.less(array1, array2))\n",
    "\n",
    "# checking elements of 1st array are less than equal to elements of 2nd array\n",
    "print(\"\\nComparison - less_equal\")\n",
    "print(np.less_equal(array1, array2))"
   ]
  },
  {
   "cell_type": "markdown",
   "metadata": {},
   "source": [
    "### Question 2:\n",
    "Write a NumPy program to create an array of 10 zeros,10 ones, 10 fives"
   ]
  },
  {
   "cell_type": "code",
   "execution_count": 3,
   "metadata": {},
   "outputs": [
    {
     "name": "stdout",
     "output_type": "stream",
     "text": [
      "Array of 10 zeros:\n",
      "[[0. 0.]\n",
      " [0. 0.]\n",
      " [0. 0.]\n",
      " [0. 0.]\n",
      " [0. 0.]]\n",
      "\n",
      "Size of above array:\n",
      "(5, 2)\n",
      "\n",
      "Array of 10 ones:\n",
      "[[1. 1. 1. 1. 1.]\n",
      " [1. 1. 1. 1. 1.]]\n",
      "\n",
      "Size of above array:\n",
      "(2, 5)\n",
      "\n",
      "Array of 10 fives:\n",
      "[5 5 5 5 5 5 5 5 5 5]\n",
      "\n",
      "Size of above array:\n",
      "(10,)\n"
     ]
    }
   ],
   "source": [
    "# Printing array of 10 zeros\n",
    "array_of_zeros = np.zeros((5,2))\n",
    "print('Array of 10 zeros:')\n",
    "print(array_of_zeros)\n",
    "print('\\nSize of above array:')\n",
    "print(array_of_zeros.shape)\n",
    "\n",
    "# Printing array of 10 ones\n",
    "array_of_ones = np.ones((2,5))\n",
    "print('\\nArray of 10 ones:')\n",
    "print(array_of_ones)\n",
    "print('\\nSize of above array:')\n",
    "print(array_of_ones.shape)\n",
    "\n",
    "# Printing the array of 10 fives\n",
    "array_of_fives = np.full((10),5) \n",
    "print('\\nArray of 10 fives:')\n",
    "print(array_of_fives)\n",
    "print('\\nSize of above array:')\n",
    "print(array_of_fives.shape)"
   ]
  },
  {
   "cell_type": "markdown",
   "metadata": {},
   "source": [
    "### Question 4:\n",
    "Write a NumPy program to add, subtract, multiply, divide arguments element-wise."
   ]
  },
  {
   "cell_type": "code",
   "execution_count": 4,
   "metadata": {},
   "outputs": [
    {
     "name": "stdout",
     "output_type": "stream",
     "text": [
      "Addition is:\n",
      "[[ 101 3042   65]\n",
      " [ 115  221 1152]]\n",
      "\n",
      "Subtraction is:\n",
      "[[ -99 -998  -49]\n",
      " [  23   43 -578]]\n",
      "\n",
      "Multiplication is:\n",
      "[[    100 2064440     456]\n",
      " [   3174   11748  248255]]\n",
      "\n",
      "Division is:\n",
      "[[0.01       0.50594059 0.14035088]\n",
      " [1.5        1.48314607 0.33179191]]\n"
     ]
    }
   ],
   "source": [
    "# Declaring two arrays\n",
    "array1 = np.array([[1,1022,8],[69,132,287]])\n",
    "array2 = np.array([[100,2020,57],[46,89,865]])\n",
    "\n",
    "# Addition of arrays\n",
    "print('Addition is:')\n",
    "print(np.add(array1,array2))\n",
    "\n",
    "# Subtarction of arrays\n",
    "print('\\nSubtraction is:')\n",
    "print(np.subtract(array1,array2))  \n",
    "\n",
    "# Multiplication of arrays\n",
    "print('\\nMultiplication is:')\n",
    "print(np.multiply(array1,array2))\n",
    "\n",
    "# Division of arrays\n",
    "print('\\nDivision is:')\n",
    "print(np.divide(array1,array2))"
   ]
  },
  {
   "cell_type": "markdown",
   "metadata": {},
   "source": [
    "### Question 5:\n",
    "Write a NumPy program to compute the trigonometric sine, cosine and tangent array of angles given in\n",
    "degree."
   ]
  },
  {
   "cell_type": "code",
   "execution_count": 5,
   "metadata": {},
   "outputs": [
    {
     "name": "stdout",
     "output_type": "stream",
     "text": [
      "sin(array):\n",
      "\n",
      " [[ 0.89399666 -0.30481062  0.85090352]\n",
      " [-0.98803162 -0.80115264  0.95891572]]\n",
      "\n",
      "cos(array):\n",
      "\n",
      " [[-0.44807362 -0.95241298  0.52532199]\n",
      " [ 0.15425145 -0.59846007 -0.28369109]]\n",
      "\n",
      "tan(array):\n",
      "\n",
      " [[-1.99520041  0.32004039  1.61977519]\n",
      " [-6.4053312   1.33869021 -3.38014041]]\n"
     ]
    }
   ],
   "source": [
    "# Declearing the array\n",
    "array_of_thita = np.array([[90,60,45],[30,180,360]])\n",
    "\n",
    "# Taking sine of array\n",
    "print('sin(array):')\n",
    "print('\\n',np.sin(array_of_thita))\n",
    "\n",
    "# Taking cosine of array\n",
    "print('\\ncos(array):')\n",
    "print('\\n',np.cos(array_of_thita))\n",
    "\n",
    "# Taking tangent of array\n",
    "print('\\ntan(array):')\n",
    "print('\\n',np.tan(array_of_thita))"
   ]
  },
  {
   "cell_type": "markdown",
   "metadata": {},
   "source": [
    "## Question 6:"
   ]
  },
  {
   "cell_type": "code",
   "execution_count": 6,
   "metadata": {},
   "outputs": [
    {
     "data": {
      "text/html": [
       "<div>\n",
       "<style scoped>\n",
       "    .dataframe tbody tr th:only-of-type {\n",
       "        vertical-align: middle;\n",
       "    }\n",
       "\n",
       "    .dataframe tbody tr th {\n",
       "        vertical-align: top;\n",
       "    }\n",
       "\n",
       "    .dataframe thead th {\n",
       "        text-align: right;\n",
       "    }\n",
       "</style>\n",
       "<table border=\"1\" class=\"dataframe\">\n",
       "  <thead>\n",
       "    <tr style=\"text-align: right;\">\n",
       "      <th></th>\n",
       "      <th>name</th>\n",
       "      <th>score</th>\n",
       "      <th>attempts</th>\n",
       "      <th>qualify</th>\n",
       "    </tr>\n",
       "  </thead>\n",
       "  <tbody>\n",
       "    <tr>\n",
       "      <th>a</th>\n",
       "      <td>Mayank</td>\n",
       "      <td>12.5</td>\n",
       "      <td>1</td>\n",
       "      <td>yes</td>\n",
       "    </tr>\n",
       "    <tr>\n",
       "      <th>b</th>\n",
       "      <td>Abhishek</td>\n",
       "      <td>9.0</td>\n",
       "      <td>3</td>\n",
       "      <td>no</td>\n",
       "    </tr>\n",
       "    <tr>\n",
       "      <th>c</th>\n",
       "      <td>Deva</td>\n",
       "      <td>16.5</td>\n",
       "      <td>2</td>\n",
       "      <td>yes</td>\n",
       "    </tr>\n",
       "    <tr>\n",
       "      <th>d</th>\n",
       "      <td>Anay</td>\n",
       "      <td>NaN</td>\n",
       "      <td>3</td>\n",
       "      <td>no</td>\n",
       "    </tr>\n",
       "    <tr>\n",
       "      <th>e</th>\n",
       "      <td>Niraj</td>\n",
       "      <td>9.0</td>\n",
       "      <td>2</td>\n",
       "      <td>no</td>\n",
       "    </tr>\n",
       "    <tr>\n",
       "      <th>f</th>\n",
       "      <td>Akshay</td>\n",
       "      <td>20.0</td>\n",
       "      <td>3</td>\n",
       "      <td>yes</td>\n",
       "    </tr>\n",
       "    <tr>\n",
       "      <th>g</th>\n",
       "      <td>Aryan</td>\n",
       "      <td>14.5</td>\n",
       "      <td>1</td>\n",
       "      <td>yes</td>\n",
       "    </tr>\n",
       "    <tr>\n",
       "      <th>h</th>\n",
       "      <td>Shekhar</td>\n",
       "      <td>NaN</td>\n",
       "      <td>1</td>\n",
       "      <td>no</td>\n",
       "    </tr>\n",
       "    <tr>\n",
       "      <th>i</th>\n",
       "      <td>Rahul</td>\n",
       "      <td>8.0</td>\n",
       "      <td>2</td>\n",
       "      <td>no</td>\n",
       "    </tr>\n",
       "    <tr>\n",
       "      <th>j</th>\n",
       "      <td>Sameer</td>\n",
       "      <td>19.0</td>\n",
       "      <td>1</td>\n",
       "      <td>yes</td>\n",
       "    </tr>\n",
       "  </tbody>\n",
       "</table>\n",
       "</div>"
      ],
      "text/plain": [
       "       name  score  attempts qualify\n",
       "a    Mayank   12.5         1     yes\n",
       "b  Abhishek    9.0         3      no\n",
       "c      Deva   16.5         2     yes\n",
       "d      Anay    NaN         3      no\n",
       "e     Niraj    9.0         2      no\n",
       "f    Akshay   20.0         3     yes\n",
       "g     Aryan   14.5         1     yes\n",
       "h   Shekhar    NaN         1      no\n",
       "i     Rahul    8.0         2      no\n",
       "j    Sameer   19.0         1     yes"
      ]
     },
     "metadata": {},
     "output_type": "display_data"
    }
   ],
   "source": [
    "# Creating the sample data for the operation\n",
    "exam_data  = {'name': ['Mayank', 'Abhishek', 'Deva', 'Anay', 'Niraj', 'Akshay', 'Aryan', 'Shekhar', 'Rahul', 'Sameer'],\n",
    "        'score': [12.5, 9, 16.5, np.nan, 9, 20, 14.5, np.nan, 8, 19],\n",
    "        'attempts': [1, 3, 2, 3, 2, 3, 1, 1, 2, 1],\n",
    "        'qualify': ['yes', 'no', 'yes', 'no', 'no', 'yes', 'yes', 'no', 'no', 'yes']}\n",
    "\n",
    "# Index\n",
    "labels = ['a', 'b', 'c', 'd', 'e', 'f', 'g', 'h', 'i', 'j']\n",
    "\n",
    "# Displaying the Dataframe\n",
    "df = pd.DataFrame(exam_data , labels)\n",
    "display(df)"
   ]
  },
  {
   "cell_type": "markdown",
   "metadata": {},
   "source": [
    "## Question 7:"
   ]
  },
  {
   "cell_type": "code",
   "execution_count": 7,
   "metadata": {},
   "outputs": [
    {
     "name": "stdout",
     "output_type": "stream",
     "text": [
      "Select specific columns:\n"
     ]
    },
    {
     "data": {
      "text/html": [
       "<div>\n",
       "<style scoped>\n",
       "    .dataframe tbody tr th:only-of-type {\n",
       "        vertical-align: middle;\n",
       "    }\n",
       "\n",
       "    .dataframe tbody tr th {\n",
       "        vertical-align: top;\n",
       "    }\n",
       "\n",
       "    .dataframe thead th {\n",
       "        text-align: right;\n",
       "    }\n",
       "</style>\n",
       "<table border=\"1\" class=\"dataframe\">\n",
       "  <thead>\n",
       "    <tr style=\"text-align: right;\">\n",
       "      <th></th>\n",
       "      <th>name</th>\n",
       "      <th>score</th>\n",
       "    </tr>\n",
       "  </thead>\n",
       "  <tbody>\n",
       "    <tr>\n",
       "      <th>a</th>\n",
       "      <td>Mayank</td>\n",
       "      <td>12.5</td>\n",
       "    </tr>\n",
       "    <tr>\n",
       "      <th>b</th>\n",
       "      <td>Abhishek</td>\n",
       "      <td>9.0</td>\n",
       "    </tr>\n",
       "    <tr>\n",
       "      <th>c</th>\n",
       "      <td>Deva</td>\n",
       "      <td>16.5</td>\n",
       "    </tr>\n",
       "    <tr>\n",
       "      <th>d</th>\n",
       "      <td>Anay</td>\n",
       "      <td>NaN</td>\n",
       "    </tr>\n",
       "    <tr>\n",
       "      <th>e</th>\n",
       "      <td>Niraj</td>\n",
       "      <td>9.0</td>\n",
       "    </tr>\n",
       "    <tr>\n",
       "      <th>f</th>\n",
       "      <td>Akshay</td>\n",
       "      <td>20.0</td>\n",
       "    </tr>\n",
       "    <tr>\n",
       "      <th>g</th>\n",
       "      <td>Aryan</td>\n",
       "      <td>14.5</td>\n",
       "    </tr>\n",
       "    <tr>\n",
       "      <th>h</th>\n",
       "      <td>Shekhar</td>\n",
       "      <td>NaN</td>\n",
       "    </tr>\n",
       "    <tr>\n",
       "      <th>i</th>\n",
       "      <td>Rahul</td>\n",
       "      <td>8.0</td>\n",
       "    </tr>\n",
       "    <tr>\n",
       "      <th>j</th>\n",
       "      <td>Sameer</td>\n",
       "      <td>19.0</td>\n",
       "    </tr>\n",
       "  </tbody>\n",
       "</table>\n",
       "</div>"
      ],
      "text/plain": [
       "       name  score\n",
       "a    Mayank   12.5\n",
       "b  Abhishek    9.0\n",
       "c      Deva   16.5\n",
       "d      Anay    NaN\n",
       "e     Niraj    9.0\n",
       "f    Akshay   20.0\n",
       "g     Aryan   14.5\n",
       "h   Shekhar    NaN\n",
       "i     Rahul    8.0\n",
       "j    Sameer   19.0"
      ]
     },
     "metadata": {},
     "output_type": "display_data"
    }
   ],
   "source": [
    "# Displaying only the name and score\n",
    "print(\"Select specific columns:\")\n",
    "display(df[['name', 'score']])"
   ]
  },
  {
   "cell_type": "markdown",
   "metadata": {},
   "source": [
    "## Question 8:"
   ]
  },
  {
   "cell_type": "code",
   "execution_count": 8,
   "metadata": {},
   "outputs": [
    {
     "name": "stdout",
     "output_type": "stream",
     "text": [
      "Original DataFrames:\n"
     ]
    },
    {
     "data": {
      "text/html": [
       "<div>\n",
       "<style scoped>\n",
       "    .dataframe tbody tr th:only-of-type {\n",
       "        vertical-align: middle;\n",
       "    }\n",
       "\n",
       "    .dataframe tbody tr th {\n",
       "        vertical-align: top;\n",
       "    }\n",
       "\n",
       "    .dataframe thead th {\n",
       "        text-align: right;\n",
       "    }\n",
       "</style>\n",
       "<table border=\"1\" class=\"dataframe\">\n",
       "  <thead>\n",
       "    <tr style=\"text-align: right;\">\n",
       "      <th></th>\n",
       "      <th>student_id</th>\n",
       "      <th>name</th>\n",
       "      <th>marks</th>\n",
       "    </tr>\n",
       "  </thead>\n",
       "  <tbody>\n",
       "    <tr>\n",
       "      <th>0</th>\n",
       "      <td>S1</td>\n",
       "      <td>Mayank Shelar</td>\n",
       "      <td>200</td>\n",
       "    </tr>\n",
       "    <tr>\n",
       "      <th>1</th>\n",
       "      <td>S2</td>\n",
       "      <td>Deva Masane</td>\n",
       "      <td>210</td>\n",
       "    </tr>\n",
       "    <tr>\n",
       "      <th>2</th>\n",
       "      <td>S3</td>\n",
       "      <td>Atharva Garware</td>\n",
       "      <td>190</td>\n",
       "    </tr>\n",
       "    <tr>\n",
       "      <th>3</th>\n",
       "      <td>S4</td>\n",
       "      <td>Jigar Joshi</td>\n",
       "      <td>222</td>\n",
       "    </tr>\n",
       "    <tr>\n",
       "      <th>4</th>\n",
       "      <td>S5</td>\n",
       "      <td>Rithik Borade</td>\n",
       "      <td>199</td>\n",
       "    </tr>\n",
       "  </tbody>\n",
       "</table>\n",
       "</div>"
      ],
      "text/plain": [
       "  student_id             name  marks\n",
       "0         S1    Mayank Shelar    200\n",
       "1         S2      Deva Masane    210\n",
       "2         S3  Atharva Garware    190\n",
       "3         S4      Jigar Joshi    222\n",
       "4         S5    Rithik Borade    199"
      ]
     },
     "metadata": {},
     "output_type": "display_data"
    },
    {
     "name": "stdout",
     "output_type": "stream",
     "text": [
      "-------------------------------------\n"
     ]
    },
    {
     "data": {
      "text/html": [
       "<div>\n",
       "<style scoped>\n",
       "    .dataframe tbody tr th:only-of-type {\n",
       "        vertical-align: middle;\n",
       "    }\n",
       "\n",
       "    .dataframe tbody tr th {\n",
       "        vertical-align: top;\n",
       "    }\n",
       "\n",
       "    .dataframe thead th {\n",
       "        text-align: right;\n",
       "    }\n",
       "</style>\n",
       "<table border=\"1\" class=\"dataframe\">\n",
       "  <thead>\n",
       "    <tr style=\"text-align: right;\">\n",
       "      <th></th>\n",
       "      <th>student_id</th>\n",
       "      <th>name</th>\n",
       "      <th>marks</th>\n",
       "    </tr>\n",
       "  </thead>\n",
       "  <tbody>\n",
       "    <tr>\n",
       "      <th>0</th>\n",
       "      <td>S4</td>\n",
       "      <td>Vikrant Balmuri</td>\n",
       "      <td>201</td>\n",
       "    </tr>\n",
       "    <tr>\n",
       "      <th>1</th>\n",
       "      <td>S5</td>\n",
       "      <td>Akash Gupta</td>\n",
       "      <td>200</td>\n",
       "    </tr>\n",
       "    <tr>\n",
       "      <th>2</th>\n",
       "      <td>S6</td>\n",
       "      <td>Vikas Gupta</td>\n",
       "      <td>198</td>\n",
       "    </tr>\n",
       "    <tr>\n",
       "      <th>3</th>\n",
       "      <td>S7</td>\n",
       "      <td>Vishal Susar</td>\n",
       "      <td>219</td>\n",
       "    </tr>\n",
       "    <tr>\n",
       "      <th>4</th>\n",
       "      <td>S8</td>\n",
       "      <td>Shubam Haral</td>\n",
       "      <td>201</td>\n",
       "    </tr>\n",
       "  </tbody>\n",
       "</table>\n",
       "</div>"
      ],
      "text/plain": [
       "  student_id             name  marks\n",
       "0         S4  Vikrant Balmuri    201\n",
       "1         S5      Akash Gupta    200\n",
       "2         S6      Vikas Gupta    198\n",
       "3         S7     Vishal Susar    219\n",
       "4         S8     Shubam Haral    201"
      ]
     },
     "metadata": {},
     "output_type": "display_data"
    },
    {
     "name": "stdout",
     "output_type": "stream",
     "text": [
      "\n",
      "Join the said two dataframes along rows:\n"
     ]
    },
    {
     "data": {
      "text/html": [
       "<div>\n",
       "<style scoped>\n",
       "    .dataframe tbody tr th:only-of-type {\n",
       "        vertical-align: middle;\n",
       "    }\n",
       "\n",
       "    .dataframe tbody tr th {\n",
       "        vertical-align: top;\n",
       "    }\n",
       "\n",
       "    .dataframe thead th {\n",
       "        text-align: right;\n",
       "    }\n",
       "</style>\n",
       "<table border=\"1\" class=\"dataframe\">\n",
       "  <thead>\n",
       "    <tr style=\"text-align: right;\">\n",
       "      <th></th>\n",
       "      <th>student_id</th>\n",
       "      <th>name</th>\n",
       "      <th>marks</th>\n",
       "    </tr>\n",
       "  </thead>\n",
       "  <tbody>\n",
       "    <tr>\n",
       "      <th>0</th>\n",
       "      <td>S1</td>\n",
       "      <td>Mayank Shelar</td>\n",
       "      <td>200</td>\n",
       "    </tr>\n",
       "    <tr>\n",
       "      <th>1</th>\n",
       "      <td>S2</td>\n",
       "      <td>Deva Masane</td>\n",
       "      <td>210</td>\n",
       "    </tr>\n",
       "    <tr>\n",
       "      <th>2</th>\n",
       "      <td>S3</td>\n",
       "      <td>Atharva Garware</td>\n",
       "      <td>190</td>\n",
       "    </tr>\n",
       "    <tr>\n",
       "      <th>3</th>\n",
       "      <td>S4</td>\n",
       "      <td>Jigar Joshi</td>\n",
       "      <td>222</td>\n",
       "    </tr>\n",
       "    <tr>\n",
       "      <th>4</th>\n",
       "      <td>S5</td>\n",
       "      <td>Rithik Borade</td>\n",
       "      <td>199</td>\n",
       "    </tr>\n",
       "    <tr>\n",
       "      <th>0</th>\n",
       "      <td>S4</td>\n",
       "      <td>Vikrant Balmuri</td>\n",
       "      <td>201</td>\n",
       "    </tr>\n",
       "    <tr>\n",
       "      <th>1</th>\n",
       "      <td>S5</td>\n",
       "      <td>Akash Gupta</td>\n",
       "      <td>200</td>\n",
       "    </tr>\n",
       "    <tr>\n",
       "      <th>2</th>\n",
       "      <td>S6</td>\n",
       "      <td>Vikas Gupta</td>\n",
       "      <td>198</td>\n",
       "    </tr>\n",
       "    <tr>\n",
       "      <th>3</th>\n",
       "      <td>S7</td>\n",
       "      <td>Vishal Susar</td>\n",
       "      <td>219</td>\n",
       "    </tr>\n",
       "    <tr>\n",
       "      <th>4</th>\n",
       "      <td>S8</td>\n",
       "      <td>Shubam Haral</td>\n",
       "      <td>201</td>\n",
       "    </tr>\n",
       "  </tbody>\n",
       "</table>\n",
       "</div>"
      ],
      "text/plain": [
       "  student_id             name  marks\n",
       "0         S1    Mayank Shelar    200\n",
       "1         S2      Deva Masane    210\n",
       "2         S3  Atharva Garware    190\n",
       "3         S4      Jigar Joshi    222\n",
       "4         S5    Rithik Borade    199\n",
       "0         S4  Vikrant Balmuri    201\n",
       "1         S5      Akash Gupta    200\n",
       "2         S6      Vikas Gupta    198\n",
       "3         S7     Vishal Susar    219\n",
       "4         S8     Shubam Haral    201"
      ]
     },
     "metadata": {},
     "output_type": "display_data"
    }
   ],
   "source": [
    "# Sample data 1\n",
    "student_data1 = pd.DataFrame({\n",
    "        'student_id': ['S1', 'S2', 'S3', 'S4', 'S5'],\n",
    "         'name': ['Mayank Shelar', 'Deva Masane', 'Atharva Garware', 'Jigar Joshi', 'Rithik Borade'], \n",
    "        'marks': [200, 210, 190, 222, 199]})\n",
    "\n",
    "# Sample data 2\n",
    "student_data2 = pd.DataFrame({\n",
    "        'student_id': ['S4', 'S5', 'S6', 'S7', 'S8'],\n",
    "        'name': ['Vikrant Balmuri', 'Akash Gupta', 'Vikas Gupta', 'Vishal Susar', 'Shubam Haral'], \n",
    "        'marks': [201, 200, 198, 219, 201]})\n",
    "\n",
    "# Displaying Sample data 1\n",
    "print(\"Original DataFrames:\")\n",
    "display(student_data1)\n",
    "\n",
    "print(\"-------------------------------------\")\n",
    "\n",
    "# Displaying Sample data 2\n",
    "display(student_data2)\n",
    "\n",
    "# Main operation of joining\n",
    "print(\"\\nJoin the said two dataframes along rows:\")\n",
    "result_data = pd.concat([student_data1, student_data2])\n",
    "\n",
    "# Displaying the result\n",
    "display(result_data)"
   ]
  },
  {
   "cell_type": "markdown",
   "metadata": {},
   "source": [
    "## Question 9:"
   ]
  },
  {
   "cell_type": "code",
   "execution_count": 9,
   "metadata": {},
   "outputs": [
    {
     "name": "stdout",
     "output_type": "stream",
     "text": [
      "Rows where score is missing:\n",
      "a    False\n",
      "b    False\n",
      "c    False\n",
      "d     True\n",
      "e    False\n",
      "f    False\n",
      "g    False\n",
      "h     True\n",
      "i    False\n",
      "j    False\n",
      "Name: score, dtype: bool\n"
     ]
    }
   ],
   "source": [
    "# Checking for NaN values\n",
    "print(\"Rows where score is missing:\")\n",
    "print(df['score'].isnull())"
   ]
  },
  {
   "cell_type": "markdown",
   "metadata": {},
   "source": [
    "## Question 10:"
   ]
  },
  {
   "cell_type": "code",
   "execution_count": 10,
   "metadata": {},
   "outputs": [
    {
     "name": "stdout",
     "output_type": "stream",
     "text": [
      "0    287.000\n",
      "1      4.000\n",
      "2      3.412\n",
      "3      8.314\n",
      "4      6.222\n",
      "dtype: float64\n"
     ]
    }
   ],
   "source": [
    "# Dataframe of array\n",
    "ds = pd.Series([287, 4, 3.412, 8.314, 6.222])\n",
    "print(ds)"
   ]
  },
  {
   "cell_type": "code",
   "execution_count": null,
   "metadata": {},
   "outputs": [],
   "source": []
  }
 ],
 "metadata": {
  "kernelspec": {
   "display_name": "Python 3",
   "language": "python",
   "name": "python3"
  },
  "language_info": {
   "codemirror_mode": {
    "name": "ipython",
    "version": 3
   },
   "file_extension": ".py",
   "mimetype": "text/x-python",
   "name": "python",
   "nbconvert_exporter": "python",
   "pygments_lexer": "ipython3",
   "version": "3.8.3"
  }
 },
 "nbformat": 4,
 "nbformat_minor": 4
}
